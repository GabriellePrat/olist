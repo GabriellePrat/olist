{
 "cells": [
  {
   "cell_type": "markdown",
   "metadata": {},
   "source": [
    "## Exploratory Analysis"
   ]
  },
  {
   "cell_type": "markdown",
   "metadata": {},
   "source": [
    "### Introduction"
   ]
  },
  {
   "cell_type": "markdown",
   "metadata": {},
   "source": [
    "In this exercice we are going to run an exploratory analysis of Olist datasets. First download all datasets from Kaggle here - https://www.kaggle.com/olistbr/brazilian-ecommerce/download (120Mb). \n",
    "\n",
    "Your directory should look like the following: \n",
    "\n",
    "\n",
    "```\n",
    ".\n",
    "└── data\n",
    "    └── csv\n",
    "        ├── product_category_name_translation.csv\n",
    "        ├── olist_sellers_dataset.csv\n",
    "        ├── olist_products_dataset.csv\n",
    "        ├── olist_orders_dataset.csv\n",
    "        ├── olist_order_reviews_dataset.csv\n",
    "        ├── olist_order_payments_dataset.csv\n",
    "        ├── olist_order_items_dataset.csv\n",
    "        ├── olist_geolocation_dataset.csv\n",
    "        └── olist_customers_dataset.csv \n",
    "```"
   ]
  },
  {
   "cell_type": "markdown",
   "metadata": {},
   "source": [
    "### Exercices"
   ]
  },
  {
   "cell_type": "markdown",
   "metadata": {},
   "source": [
    "- Load all dataset in a dictionary named data where each key is the name of the csv file.\n",
    "- Run an exploratory analysis for the list of datasets below. Use [pandas-profiling](https://github.com/pandas-profiling/pandas-profiling) to output one HTML output per dataset under a `report` folder: \n",
    "\n",
    "```python\n",
    "['olist_orders_dataset', 'olist_products_dataset', 'olist_customers_dataset', 'olist_order_reviews_dataset', 'olist_order_items_dataset']\n",
    "```\n",
    "- Which columns have missing data? Which columns should be converted as datetime? \n",
    "- Perform a merge to obtain a matching table between `customer_id`, `customer_unique_id`, `order_id`, `product_id`, `seller_id` and export the obtained DataFrame to the `data` folder as `matching_table.csv`"
   ]
  },
  {
   "cell_type": "markdown",
   "metadata": {},
   "source": [
    "### 1 - Import files"
   ]
  },
  {
   "cell_type": "code",
   "execution_count": 4,
   "metadata": {},
   "outputs": [],
   "source": [
    "# import libraries \n",
    "import pandas as pd\n",
    "import os"
   ]
  },
  {
   "cell_type": "code",
   "execution_count": 6,
   "metadata": {},
   "outputs": [
    {
     "data": {
      "text/plain": [
       "['olist_sellers_dataset.csv',\n",
       " 'product_category_name_translation.csv',\n",
       " 'olist_orders_dataset.csv',\n",
       " 'olist_order_items_dataset.csv',\n",
       " 'olist_customers_dataset.csv',\n",
       " 'olist_geolocation_dataset.csv',\n",
       " 'olist_order_payments_dataset.csv',\n",
       " 'olist_order_reviews_dataset.csv',\n",
       " 'olist_products_dataset.csv']"
      ]
     },
     "execution_count": 6,
     "metadata": {},
     "output_type": "execute_result"
    }
   ],
   "source": [
    "# Access all files in data directory\n",
    "# Hint: use the os library to navigate files \n",
    "os.listdir('../data/csv')"
   ]
  },
  {
   "cell_type": "code",
   "execution_count": 16,
   "metadata": {},
   "outputs": [
    {
     "data": {
      "text/html": [
       "<div>\n",
       "<style scoped>\n",
       "    .dataframe tbody tr th:only-of-type {\n",
       "        vertical-align: middle;\n",
       "    }\n",
       "\n",
       "    .dataframe tbody tr th {\n",
       "        vertical-align: top;\n",
       "    }\n",
       "\n",
       "    .dataframe thead th {\n",
       "        text-align: right;\n",
       "    }\n",
       "</style>\n",
       "<table border=\"1\" class=\"dataframe\">\n",
       "  <thead>\n",
       "    <tr style=\"text-align: right;\">\n",
       "      <th></th>\n",
       "      <th>customer_id</th>\n",
       "      <th>customer_unique_id</th>\n",
       "      <th>customer_zip_code_prefix</th>\n",
       "      <th>customer_city</th>\n",
       "      <th>customer_state</th>\n",
       "    </tr>\n",
       "  </thead>\n",
       "  <tbody>\n",
       "    <tr>\n",
       "      <th>0</th>\n",
       "      <td>06b8999e2fba1a1fbc88172c00ba8bc7</td>\n",
       "      <td>861eff4711a542e4b93843c6dd7febb0</td>\n",
       "      <td>14409</td>\n",
       "      <td>franca</td>\n",
       "      <td>SP</td>\n",
       "    </tr>\n",
       "    <tr>\n",
       "      <th>1</th>\n",
       "      <td>18955e83d337fd6b2def6b18a428ac77</td>\n",
       "      <td>290c77bc529b7ac935b93aa66c333dc3</td>\n",
       "      <td>9790</td>\n",
       "      <td>sao bernardo do campo</td>\n",
       "      <td>SP</td>\n",
       "    </tr>\n",
       "    <tr>\n",
       "      <th>2</th>\n",
       "      <td>4e7b3e00288586ebd08712fdd0374a03</td>\n",
       "      <td>060e732b5b29e8181a18229c7b0b2b5e</td>\n",
       "      <td>1151</td>\n",
       "      <td>sao paulo</td>\n",
       "      <td>SP</td>\n",
       "    </tr>\n",
       "    <tr>\n",
       "      <th>3</th>\n",
       "      <td>b2b6027bc5c5109e529d4dc6358b12c3</td>\n",
       "      <td>259dac757896d24d7702b9acbbff3f3c</td>\n",
       "      <td>8775</td>\n",
       "      <td>mogi das cruzes</td>\n",
       "      <td>SP</td>\n",
       "    </tr>\n",
       "    <tr>\n",
       "      <th>4</th>\n",
       "      <td>4f2d8ab171c80ec8364f7c12e35b23ad</td>\n",
       "      <td>345ecd01c38d18a9036ed96c73b8d066</td>\n",
       "      <td>13056</td>\n",
       "      <td>campinas</td>\n",
       "      <td>SP</td>\n",
       "    </tr>\n",
       "    <tr>\n",
       "      <th>...</th>\n",
       "      <td>...</td>\n",
       "      <td>...</td>\n",
       "      <td>...</td>\n",
       "      <td>...</td>\n",
       "      <td>...</td>\n",
       "    </tr>\n",
       "    <tr>\n",
       "      <th>99436</th>\n",
       "      <td>17ddf5dd5d51696bb3d7c6291687be6f</td>\n",
       "      <td>1a29b476fee25c95fbafc67c5ac95cf8</td>\n",
       "      <td>3937</td>\n",
       "      <td>sao paulo</td>\n",
       "      <td>SP</td>\n",
       "    </tr>\n",
       "    <tr>\n",
       "      <th>99437</th>\n",
       "      <td>e7b71a9017aa05c9a7fd292d714858e8</td>\n",
       "      <td>d52a67c98be1cf6a5c84435bd38d095d</td>\n",
       "      <td>6764</td>\n",
       "      <td>taboao da serra</td>\n",
       "      <td>SP</td>\n",
       "    </tr>\n",
       "    <tr>\n",
       "      <th>99438</th>\n",
       "      <td>5e28dfe12db7fb50a4b2f691faecea5e</td>\n",
       "      <td>e9f50caf99f032f0bf3c55141f019d99</td>\n",
       "      <td>60115</td>\n",
       "      <td>fortaleza</td>\n",
       "      <td>CE</td>\n",
       "    </tr>\n",
       "    <tr>\n",
       "      <th>99439</th>\n",
       "      <td>56b18e2166679b8a959d72dd06da27f9</td>\n",
       "      <td>73c2643a0a458b49f58cea58833b192e</td>\n",
       "      <td>92120</td>\n",
       "      <td>canoas</td>\n",
       "      <td>RS</td>\n",
       "    </tr>\n",
       "    <tr>\n",
       "      <th>99440</th>\n",
       "      <td>274fa6071e5e17fe303b9748641082c8</td>\n",
       "      <td>84732c5050c01db9b23e19ba39899398</td>\n",
       "      <td>6703</td>\n",
       "      <td>cotia</td>\n",
       "      <td>SP</td>\n",
       "    </tr>\n",
       "  </tbody>\n",
       "</table>\n",
       "<p>99441 rows × 5 columns</p>\n",
       "</div>"
      ],
      "text/plain": [
       "                            customer_id                customer_unique_id  \\\n",
       "0      06b8999e2fba1a1fbc88172c00ba8bc7  861eff4711a542e4b93843c6dd7febb0   \n",
       "1      18955e83d337fd6b2def6b18a428ac77  290c77bc529b7ac935b93aa66c333dc3   \n",
       "2      4e7b3e00288586ebd08712fdd0374a03  060e732b5b29e8181a18229c7b0b2b5e   \n",
       "3      b2b6027bc5c5109e529d4dc6358b12c3  259dac757896d24d7702b9acbbff3f3c   \n",
       "4      4f2d8ab171c80ec8364f7c12e35b23ad  345ecd01c38d18a9036ed96c73b8d066   \n",
       "...                                 ...                               ...   \n",
       "99436  17ddf5dd5d51696bb3d7c6291687be6f  1a29b476fee25c95fbafc67c5ac95cf8   \n",
       "99437  e7b71a9017aa05c9a7fd292d714858e8  d52a67c98be1cf6a5c84435bd38d095d   \n",
       "99438  5e28dfe12db7fb50a4b2f691faecea5e  e9f50caf99f032f0bf3c55141f019d99   \n",
       "99439  56b18e2166679b8a959d72dd06da27f9  73c2643a0a458b49f58cea58833b192e   \n",
       "99440  274fa6071e5e17fe303b9748641082c8  84732c5050c01db9b23e19ba39899398   \n",
       "\n",
       "       customer_zip_code_prefix          customer_city customer_state  \n",
       "0                         14409                 franca             SP  \n",
       "1                          9790  sao bernardo do campo             SP  \n",
       "2                          1151              sao paulo             SP  \n",
       "3                          8775        mogi das cruzes             SP  \n",
       "4                         13056               campinas             SP  \n",
       "...                         ...                    ...            ...  \n",
       "99436                      3937              sao paulo             SP  \n",
       "99437                      6764        taboao da serra             SP  \n",
       "99438                     60115              fortaleza             CE  \n",
       "99439                     92120                 canoas             RS  \n",
       "99440                      6703                  cotia             SP  \n",
       "\n",
       "[99441 rows x 5 columns]"
      ]
     },
     "execution_count": 16,
     "metadata": {},
     "output_type": "execute_result"
    }
   ],
   "source": [
    "# Import each file as separate (key,values) pair of a single data dict\n",
    "data_dict = {}\n",
    "for file in os.listdir('../data/csv'):\n",
    "    data_dict[file[:-4]] = pd.read_csv('../data/csv/{}'.format(file))\n",
    "data_dict['olist_customers_dataset']"
   ]
  },
  {
   "cell_type": "markdown",
   "metadata": {},
   "source": [
    "### 2 - Run an exploratory analysis "
   ]
  },
  {
   "cell_type": "markdown",
   "metadata": {},
   "source": [
    "- Run an exploratory analysis for the list of datasets below. Use [pandas-profiling](https://github.com/pandas-profiling/pandas-profiling) to output one HTML output per dataset under a `report` folder. You can limit your analysis to those tables to save computing time:\n",
    "\n",
    "```python\n",
    "['olist_orders_dataset', 'olist_products_dataset', 'olist_customers_dataset', 'olist_order_reviews_dataset', 'olist_order_items_dataset']\n",
    "```\n"
   ]
  },
  {
   "cell_type": "code",
   "execution_count": 26,
   "metadata": {},
   "outputs": [],
   "source": [
    "dataset_list = ['olist_orders_dataset', 'olist_products_dataset', 'olist_customers_dataset', 'olist_order_reviews_dataset', 'olist_order_items_dataset']"
   ]
  },
  {
   "cell_type": "code",
   "execution_count": 27,
   "metadata": {},
   "outputs": [
    {
     "data": {
      "application/vnd.jupyter.widget-view+json": {
       "model_id": "f269c3cd4630469e9b65c17a5e19ea8c",
       "version_major": 2,
       "version_minor": 0
      },
      "text/plain": [
       "HBox(children=(FloatProgress(value=0.0, description='variables', max=8.0, style=ProgressStyle(description_widt…"
      ]
     },
     "metadata": {},
     "output_type": "display_data"
    },
    {
     "name": "stdout",
     "output_type": "stream",
     "text": [
      "\n"
     ]
    },
    {
     "data": {
      "application/vnd.jupyter.widget-view+json": {
       "model_id": "2bd7c3cb3a4d4587923c9f347fb4b935",
       "version_major": 2,
       "version_minor": 0
      },
      "text/plain": [
       "HBox(children=(FloatProgress(value=0.0, description='correlations', max=6.0, style=ProgressStyle(description_w…"
      ]
     },
     "metadata": {},
     "output_type": "display_data"
    },
    {
     "name": "stdout",
     "output_type": "stream",
     "text": [
      "\n"
     ]
    },
    {
     "data": {
      "application/vnd.jupyter.widget-view+json": {
       "model_id": "f9098aef49dc42078b229e8b1330b554",
       "version_major": 2,
       "version_minor": 0
      },
      "text/plain": [
       "HBox(children=(FloatProgress(value=1.0, bar_style='info', description='interactions [continuous]', max=1.0, st…"
      ]
     },
     "metadata": {},
     "output_type": "display_data"
    },
    {
     "name": "stdout",
     "output_type": "stream",
     "text": [
      "\n"
     ]
    },
    {
     "data": {
      "application/vnd.jupyter.widget-view+json": {
       "model_id": "fc4dbed5dbd7455bbc4ada74daccddaa",
       "version_major": 2,
       "version_minor": 0
      },
      "text/plain": [
       "HBox(children=(FloatProgress(value=0.0, description='table', max=1.0, style=ProgressStyle(description_width='i…"
      ]
     },
     "metadata": {},
     "output_type": "display_data"
    },
    {
     "name": "stdout",
     "output_type": "stream",
     "text": [
      "\n"
     ]
    },
    {
     "data": {
      "application/vnd.jupyter.widget-view+json": {
       "model_id": "1e9173b18dcb40b4a818cad29482a7ba",
       "version_major": 2,
       "version_minor": 0
      },
      "text/plain": [
       "HBox(children=(FloatProgress(value=0.0, description='missing', max=4.0, style=ProgressStyle(description_width=…"
      ]
     },
     "metadata": {},
     "output_type": "display_data"
    },
    {
     "name": "stdout",
     "output_type": "stream",
     "text": [
      "\n"
     ]
    },
    {
     "data": {
      "application/vnd.jupyter.widget-view+json": {
       "model_id": "6c88abbd0e404734b3926903883a3287",
       "version_major": 2,
       "version_minor": 0
      },
      "text/plain": [
       "HBox(children=(FloatProgress(value=0.0, description='warnings', max=3.0, style=ProgressStyle(description_width…"
      ]
     },
     "metadata": {},
     "output_type": "display_data"
    },
    {
     "name": "stdout",
     "output_type": "stream",
     "text": [
      "\n"
     ]
    },
    {
     "data": {
      "application/vnd.jupyter.widget-view+json": {
       "model_id": "e1e485def4904baa8fc8d4852aa73fdd",
       "version_major": 2,
       "version_minor": 0
      },
      "text/plain": [
       "HBox(children=(FloatProgress(value=0.0, description='package', max=1.0, style=ProgressStyle(description_width=…"
      ]
     },
     "metadata": {},
     "output_type": "display_data"
    },
    {
     "name": "stdout",
     "output_type": "stream",
     "text": [
      "\n"
     ]
    },
    {
     "data": {
      "application/vnd.jupyter.widget-view+json": {
       "model_id": "37b356c12f0a4648a19797dbb99e1679",
       "version_major": 2,
       "version_minor": 0
      },
      "text/plain": [
       "HBox(children=(FloatProgress(value=0.0, description='build report structure', max=1.0, style=ProgressStyle(des…"
      ]
     },
     "metadata": {},
     "output_type": "display_data"
    },
    {
     "name": "stdout",
     "output_type": "stream",
     "text": [
      "\n"
     ]
    },
    {
     "data": {
      "application/vnd.jupyter.widget-view+json": {
       "model_id": "96a5ca775368481d92f091914cd8a0b5",
       "version_major": 2,
       "version_minor": 0
      },
      "text/plain": [
       "HBox(children=(FloatProgress(value=0.0, description='variables', max=9.0, style=ProgressStyle(description_widt…"
      ]
     },
     "metadata": {},
     "output_type": "display_data"
    },
    {
     "name": "stdout",
     "output_type": "stream",
     "text": [
      "\n"
     ]
    },
    {
     "data": {
      "application/vnd.jupyter.widget-view+json": {
       "model_id": "4380690b66aa4da1b2f659d3028e3b72",
       "version_major": 2,
       "version_minor": 0
      },
      "text/plain": [
       "HBox(children=(FloatProgress(value=0.0, description='correlations', max=6.0, style=ProgressStyle(description_w…"
      ]
     },
     "metadata": {},
     "output_type": "display_data"
    },
    {
     "name": "stdout",
     "output_type": "stream",
     "text": [
      "\n"
     ]
    },
    {
     "data": {
      "application/vnd.jupyter.widget-view+json": {
       "model_id": "4b30e1489aea41b1b2b2fa9c8e2c8529",
       "version_major": 2,
       "version_minor": 0
      },
      "text/plain": [
       "HBox(children=(FloatProgress(value=0.0, description='interactions [continuous]', max=49.0, style=ProgressStyle…"
      ]
     },
     "metadata": {},
     "output_type": "display_data"
    },
    {
     "name": "stdout",
     "output_type": "stream",
     "text": [
      "\n"
     ]
    },
    {
     "data": {
      "application/vnd.jupyter.widget-view+json": {
       "model_id": "a7c058353c9a4e30bca0e95e6901e4f9",
       "version_major": 2,
       "version_minor": 0
      },
      "text/plain": [
       "HBox(children=(FloatProgress(value=0.0, description='table', max=1.0, style=ProgressStyle(description_width='i…"
      ]
     },
     "metadata": {},
     "output_type": "display_data"
    },
    {
     "name": "stdout",
     "output_type": "stream",
     "text": [
      "\n"
     ]
    },
    {
     "data": {
      "application/vnd.jupyter.widget-view+json": {
       "model_id": "db3ed1d884ff4ddd824190196d74b661",
       "version_major": 2,
       "version_minor": 0
      },
      "text/plain": [
       "HBox(children=(FloatProgress(value=0.0, description='missing', max=4.0, style=ProgressStyle(description_width=…"
      ]
     },
     "metadata": {},
     "output_type": "display_data"
    },
    {
     "name": "stdout",
     "output_type": "stream",
     "text": [
      "\n"
     ]
    },
    {
     "data": {
      "application/vnd.jupyter.widget-view+json": {
       "model_id": "b8610c2500b749e98d870e27639440be",
       "version_major": 2,
       "version_minor": 0
      },
      "text/plain": [
       "HBox(children=(FloatProgress(value=0.0, description='warnings', max=3.0, style=ProgressStyle(description_width…"
      ]
     },
     "metadata": {},
     "output_type": "display_data"
    },
    {
     "name": "stdout",
     "output_type": "stream",
     "text": [
      "\n"
     ]
    },
    {
     "data": {
      "application/vnd.jupyter.widget-view+json": {
       "model_id": "6be5708c38484bac834067bac5af2bdc",
       "version_major": 2,
       "version_minor": 0
      },
      "text/plain": [
       "HBox(children=(FloatProgress(value=0.0, description='package', max=1.0, style=ProgressStyle(description_width=…"
      ]
     },
     "metadata": {},
     "output_type": "display_data"
    },
    {
     "name": "stdout",
     "output_type": "stream",
     "text": [
      "\n"
     ]
    },
    {
     "data": {
      "application/vnd.jupyter.widget-view+json": {
       "model_id": "3dcdfc3d8d8d4b25992f87ac9bd7bf62",
       "version_major": 2,
       "version_minor": 0
      },
      "text/plain": [
       "HBox(children=(FloatProgress(value=0.0, description='build report structure', max=1.0, style=ProgressStyle(des…"
      ]
     },
     "metadata": {},
     "output_type": "display_data"
    },
    {
     "name": "stdout",
     "output_type": "stream",
     "text": [
      "\n"
     ]
    },
    {
     "data": {
      "application/vnd.jupyter.widget-view+json": {
       "model_id": "92b589cf9a0547a98366a318b82518d1",
       "version_major": 2,
       "version_minor": 0
      },
      "text/plain": [
       "HBox(children=(FloatProgress(value=0.0, description='variables', max=5.0, style=ProgressStyle(description_widt…"
      ]
     },
     "metadata": {},
     "output_type": "display_data"
    },
    {
     "name": "stdout",
     "output_type": "stream",
     "text": [
      "\n"
     ]
    },
    {
     "data": {
      "application/vnd.jupyter.widget-view+json": {
       "model_id": "ee096fd032754858acf619da35fd2b05",
       "version_major": 2,
       "version_minor": 0
      },
      "text/plain": [
       "HBox(children=(FloatProgress(value=0.0, description='correlations', max=6.0, style=ProgressStyle(description_w…"
      ]
     },
     "metadata": {},
     "output_type": "display_data"
    },
    {
     "name": "stdout",
     "output_type": "stream",
     "text": [
      "\n"
     ]
    },
    {
     "data": {
      "application/vnd.jupyter.widget-view+json": {
       "model_id": "6dd69305bfa94b718a1324c5c7e7fa52",
       "version_major": 2,
       "version_minor": 0
      },
      "text/plain": [
       "HBox(children=(FloatProgress(value=0.0, description='interactions [continuous]', max=1.0, style=ProgressStyle(…"
      ]
     },
     "metadata": {},
     "output_type": "display_data"
    },
    {
     "name": "stdout",
     "output_type": "stream",
     "text": [
      "\n"
     ]
    },
    {
     "data": {
      "application/vnd.jupyter.widget-view+json": {
       "model_id": "19bfc5261bca4307b7b8d118076366b5",
       "version_major": 2,
       "version_minor": 0
      },
      "text/plain": [
       "HBox(children=(FloatProgress(value=0.0, description='table', max=1.0, style=ProgressStyle(description_width='i…"
      ]
     },
     "metadata": {},
     "output_type": "display_data"
    },
    {
     "name": "stdout",
     "output_type": "stream",
     "text": [
      "\n"
     ]
    },
    {
     "data": {
      "application/vnd.jupyter.widget-view+json": {
       "model_id": "d12c76c9afd840f5b791bd1520a975e6",
       "version_major": 2,
       "version_minor": 0
      },
      "text/plain": [
       "HBox(children=(FloatProgress(value=0.0, description='missing', max=2.0, style=ProgressStyle(description_width=…"
      ]
     },
     "metadata": {},
     "output_type": "display_data"
    },
    {
     "name": "stdout",
     "output_type": "stream",
     "text": [
      "\n"
     ]
    },
    {
     "data": {
      "application/vnd.jupyter.widget-view+json": {
       "model_id": "a08cfa2a43ef47aabc541971526302fe",
       "version_major": 2,
       "version_minor": 0
      },
      "text/plain": [
       "HBox(children=(FloatProgress(value=0.0, description='warnings', max=3.0, style=ProgressStyle(description_width…"
      ]
     },
     "metadata": {},
     "output_type": "display_data"
    },
    {
     "name": "stdout",
     "output_type": "stream",
     "text": [
      "\n"
     ]
    },
    {
     "data": {
      "application/vnd.jupyter.widget-view+json": {
       "model_id": "c7dd5a9960344df6b3090982685ee565",
       "version_major": 2,
       "version_minor": 0
      },
      "text/plain": [
       "HBox(children=(FloatProgress(value=0.0, description='package', max=1.0, style=ProgressStyle(description_width=…"
      ]
     },
     "metadata": {},
     "output_type": "display_data"
    },
    {
     "name": "stdout",
     "output_type": "stream",
     "text": [
      "\n"
     ]
    },
    {
     "data": {
      "application/vnd.jupyter.widget-view+json": {
       "model_id": "3066c38ecdf04012b4384bb7c4964c80",
       "version_major": 2,
       "version_minor": 0
      },
      "text/plain": [
       "HBox(children=(FloatProgress(value=0.0, description='build report structure', max=1.0, style=ProgressStyle(des…"
      ]
     },
     "metadata": {},
     "output_type": "display_data"
    },
    {
     "name": "stdout",
     "output_type": "stream",
     "text": [
      "\n"
     ]
    },
    {
     "data": {
      "application/vnd.jupyter.widget-view+json": {
       "model_id": "c9e99479dda84a3387c36212e1dc4584",
       "version_major": 2,
       "version_minor": 0
      },
      "text/plain": [
       "HBox(children=(FloatProgress(value=0.0, description='variables', max=7.0, style=ProgressStyle(description_widt…"
      ]
     },
     "metadata": {},
     "output_type": "display_data"
    },
    {
     "name": "stdout",
     "output_type": "stream",
     "text": [
      "\n"
     ]
    },
    {
     "data": {
      "application/vnd.jupyter.widget-view+json": {
       "model_id": "399b129d8e4f4b3f85fde3bb0613a51a",
       "version_major": 2,
       "version_minor": 0
      },
      "text/plain": [
       "HBox(children=(FloatProgress(value=0.0, description='correlations', max=6.0, style=ProgressStyle(description_w…"
      ]
     },
     "metadata": {},
     "output_type": "display_data"
    },
    {
     "name": "stdout",
     "output_type": "stream",
     "text": [
      "\n"
     ]
    },
    {
     "data": {
      "application/vnd.jupyter.widget-view+json": {
       "model_id": "b65acf702ecd419ea2e8482fe5ebe13d",
       "version_major": 2,
       "version_minor": 0
      },
      "text/plain": [
       "HBox(children=(FloatProgress(value=0.0, description='interactions [continuous]', max=1.0, style=ProgressStyle(…"
      ]
     },
     "metadata": {},
     "output_type": "display_data"
    },
    {
     "name": "stdout",
     "output_type": "stream",
     "text": [
      "\n"
     ]
    },
    {
     "data": {
      "application/vnd.jupyter.widget-view+json": {
       "model_id": "89252e1ef0174947996676581867198c",
       "version_major": 2,
       "version_minor": 0
      },
      "text/plain": [
       "HBox(children=(FloatProgress(value=0.0, description='table', max=1.0, style=ProgressStyle(description_width='i…"
      ]
     },
     "metadata": {},
     "output_type": "display_data"
    },
    {
     "name": "stdout",
     "output_type": "stream",
     "text": [
      "\n"
     ]
    },
    {
     "data": {
      "application/vnd.jupyter.widget-view+json": {
       "model_id": "87633a4912ad4b109c13cee80f754973",
       "version_major": 2,
       "version_minor": 0
      },
      "text/plain": [
       "HBox(children=(FloatProgress(value=0.0, description='missing', max=4.0, style=ProgressStyle(description_width=…"
      ]
     },
     "metadata": {},
     "output_type": "display_data"
    },
    {
     "name": "stdout",
     "output_type": "stream",
     "text": [
      "\n"
     ]
    },
    {
     "data": {
      "application/vnd.jupyter.widget-view+json": {
       "model_id": "02759c21e1e845c598caa2375ccd6e7f",
       "version_major": 2,
       "version_minor": 0
      },
      "text/plain": [
       "HBox(children=(FloatProgress(value=0.0, description='warnings', max=3.0, style=ProgressStyle(description_width…"
      ]
     },
     "metadata": {},
     "output_type": "display_data"
    },
    {
     "name": "stdout",
     "output_type": "stream",
     "text": [
      "\n"
     ]
    },
    {
     "data": {
      "application/vnd.jupyter.widget-view+json": {
       "model_id": "2956d069076c45dfa1fb26c7e7e09e40",
       "version_major": 2,
       "version_minor": 0
      },
      "text/plain": [
       "HBox(children=(FloatProgress(value=0.0, description='package', max=1.0, style=ProgressStyle(description_width=…"
      ]
     },
     "metadata": {},
     "output_type": "display_data"
    },
    {
     "name": "stdout",
     "output_type": "stream",
     "text": [
      "\n"
     ]
    },
    {
     "data": {
      "application/vnd.jupyter.widget-view+json": {
       "model_id": "d11d91d8578d4e8499f0cd2a14fef3d5",
       "version_major": 2,
       "version_minor": 0
      },
      "text/plain": [
       "HBox(children=(FloatProgress(value=0.0, description='build report structure', max=1.0, style=ProgressStyle(des…"
      ]
     },
     "metadata": {},
     "output_type": "display_data"
    },
    {
     "name": "stdout",
     "output_type": "stream",
     "text": [
      "\n"
     ]
    },
    {
     "data": {
      "application/vnd.jupyter.widget-view+json": {
       "model_id": "9b8cf998bfe747a28127383db55729f3",
       "version_major": 2,
       "version_minor": 0
      },
      "text/plain": [
       "HBox(children=(FloatProgress(value=0.0, description='variables', max=7.0, style=ProgressStyle(description_widt…"
      ]
     },
     "metadata": {},
     "output_type": "display_data"
    },
    {
     "name": "stdout",
     "output_type": "stream",
     "text": [
      "\n"
     ]
    },
    {
     "data": {
      "application/vnd.jupyter.widget-view+json": {
       "model_id": "31a9a13c08e84bd3bd3a6068308138b3",
       "version_major": 2,
       "version_minor": 0
      },
      "text/plain": [
       "HBox(children=(FloatProgress(value=0.0, description='correlations', max=6.0, style=ProgressStyle(description_w…"
      ]
     },
     "metadata": {},
     "output_type": "display_data"
    },
    {
     "name": "stdout",
     "output_type": "stream",
     "text": [
      "\n"
     ]
    },
    {
     "data": {
      "application/vnd.jupyter.widget-view+json": {
       "model_id": "c67623d11f86464db079b6b6f2f3870f",
       "version_major": 2,
       "version_minor": 0
      },
      "text/plain": [
       "HBox(children=(FloatProgress(value=0.0, description='interactions [continuous]', max=9.0, style=ProgressStyle(…"
      ]
     },
     "metadata": {},
     "output_type": "display_data"
    },
    {
     "name": "stdout",
     "output_type": "stream",
     "text": [
      "\n"
     ]
    },
    {
     "data": {
      "application/vnd.jupyter.widget-view+json": {
       "model_id": "7829664fc6f1487bbc75e8868adbef5d",
       "version_major": 2,
       "version_minor": 0
      },
      "text/plain": [
       "HBox(children=(FloatProgress(value=0.0, description='table', max=1.0, style=ProgressStyle(description_width='i…"
      ]
     },
     "metadata": {},
     "output_type": "display_data"
    },
    {
     "name": "stdout",
     "output_type": "stream",
     "text": [
      "\n"
     ]
    },
    {
     "data": {
      "application/vnd.jupyter.widget-view+json": {
       "model_id": "dd80853b35504198ba6868faea9ae0ad",
       "version_major": 2,
       "version_minor": 0
      },
      "text/plain": [
       "HBox(children=(FloatProgress(value=0.0, description='missing', max=2.0, style=ProgressStyle(description_width=…"
      ]
     },
     "metadata": {},
     "output_type": "display_data"
    },
    {
     "name": "stdout",
     "output_type": "stream",
     "text": [
      "\n"
     ]
    },
    {
     "data": {
      "application/vnd.jupyter.widget-view+json": {
       "model_id": "f2485743c5a44fc996a45438ee3e9756",
       "version_major": 2,
       "version_minor": 0
      },
      "text/plain": [
       "HBox(children=(FloatProgress(value=0.0, description='warnings', max=3.0, style=ProgressStyle(description_width…"
      ]
     },
     "metadata": {},
     "output_type": "display_data"
    },
    {
     "name": "stdout",
     "output_type": "stream",
     "text": [
      "\n"
     ]
    },
    {
     "data": {
      "application/vnd.jupyter.widget-view+json": {
       "model_id": "8d65347f54fc4a82b7e932c3cfc4820e",
       "version_major": 2,
       "version_minor": 0
      },
      "text/plain": [
       "HBox(children=(FloatProgress(value=0.0, description='package', max=1.0, style=ProgressStyle(description_width=…"
      ]
     },
     "metadata": {},
     "output_type": "display_data"
    },
    {
     "name": "stdout",
     "output_type": "stream",
     "text": [
      "\n"
     ]
    },
    {
     "data": {
      "application/vnd.jupyter.widget-view+json": {
       "model_id": "3eee33be9cad4063a6d4200ac6e35a99",
       "version_major": 2,
       "version_minor": 0
      },
      "text/plain": [
       "HBox(children=(FloatProgress(value=0.0, description='build report structure', max=1.0, style=ProgressStyle(des…"
      ]
     },
     "metadata": {},
     "output_type": "display_data"
    },
    {
     "name": "stdout",
     "output_type": "stream",
     "text": [
      "\n"
     ]
    }
   ],
   "source": [
    "from pandas_profiling import ProfileReport\n",
    "from pathlib import Path\n",
    "\n",
    "for file in dataset_list:\n",
    "    df = data_dict[file]\n",
    "    profile = ProfileReport(\n",
    "            df, title=file\n",
    "        )\n",
    "    profile.to_file(Path(\"../data/report/{}.html\".format(file)))"
   ]
  },
  {
   "cell_type": "markdown",
   "metadata": {},
   "source": [
    "### 3 - Analyze reports"
   ]
  },
  {
   "cell_type": "code",
   "execution_count": null,
   "metadata": {},
   "outputs": [],
   "source": [
    "# which columns have missing data?"
   ]
  },
  {
   "cell_type": "code",
   "execution_count": 6,
   "metadata": {},
   "outputs": [],
   "source": [
    "# Why are some rows of the column `order_delivered_customer_date` null?\n",
    "# --> How would you filter the `order` dataset moving forward?"
   ]
  },
  {
   "cell_type": "code",
   "execution_count": 28,
   "metadata": {},
   "outputs": [
    {
     "data": {
      "text/plain": [
       "Index(['order_id', 'customer_id', 'order_status', 'order_purchase_timestamp',\n",
       "       'order_approved_at', 'order_delivered_carrier_date',\n",
       "       'order_delivered_customer_date', 'order_estimated_delivery_date'],\n",
       "      dtype='object')"
      ]
     },
     "execution_count": 28,
     "metadata": {},
     "output_type": "execute_result"
    }
   ],
   "source": [
    "# Are dates in the right format? You may list here columns that should be converted to datetime\n",
    "data_dict['olist_orders_dataset'].columns"
   ]
  },
  {
   "cell_type": "code",
   "execution_count": 29,
   "metadata": {},
   "outputs": [],
   "source": [
    "list_date_col = ['order_purchase_timestamp',\n",
    "       'order_approved_at', 'order_delivered_carrier_date',\n",
    "       'order_delivered_customer_date', 'order_estimated_delivery_date']"
   ]
  },
  {
   "cell_type": "markdown",
   "metadata": {},
   "source": [
    "### 4 - Code your logic in olist/data.py"
   ]
  },
  {
   "cell_type": "markdown",
   "metadata": {},
   "source": [
    "Challenge: within the `olist/data.py` file, implement two methods:\n",
    "- `get_data()`: that will return all data as a dictionnary where each key contains each DataFrame\n",
    "- `get_matching_table()`: that will return a DataFrame with the following columns: `customer_id`, `customer_unique_id`, `order_id`, `product_id`, `seller_id`. Only return data for orders that are `delivered`.\n",
    "- Make sure you can import and inspect data from a notebook, by running:\n",
    "\n",
    "```python\n",
    "from olist.data import Olist\n",
    "olist = Olist()\n",
    "data = olist.get_data()\n",
    "matching_table = olist.get_matching_table()\n",
    "```\n",
    "\n",
    "- **Single source of truth**: Publish one working version of your data.py code to your team repo with git. This code will be shared and by everyone throughout the week"
   ]
  },
  {
   "cell_type": "markdown",
   "metadata": {},
   "source": [
    "#### get_data"
   ]
  },
  {
   "cell_type": "markdown",
   "metadata": {},
   "source": [
    "#### get_matching_table"
   ]
  },
  {
   "cell_type": "code",
   "execution_count": 75,
   "metadata": {},
   "outputs": [],
   "source": [
    "# Select only the columns of interest\n",
    "list_col = ['customer_id', 'customer_unique_id', 'order_id', 'product_id', 'seller_id']"
   ]
  },
  {
   "cell_type": "code",
   "execution_count": 76,
   "metadata": {},
   "outputs": [],
   "source": [
    "# Inspect the cardinality of each DataFrame"
   ]
  },
  {
   "cell_type": "code",
   "execution_count": 77,
   "metadata": {},
   "outputs": [],
   "source": [
    "# Carefully merge DataFrame\n",
    "orders_delivered_df = data_dict['olist_orders_dataset'][data_dict['olist_orders_dataset'].order_status == 'delivered']\n",
    "#Merge orders and customers\n",
    "merged_df = orders_delivered_df.merge(right=data_dict['olist_customers_dataset'], \n",
    "                          how='left',\n",
    "                          on=\"customer_id\"\n",
    "                         )\n",
    "merged_df = merged_df.merge(right=data_dict['olist_order_items_dataset'], \n",
    "                          how='left',\n",
    "                          on=\"order_id\")\n",
    "merged_df = data_dict['olist_products_dataset'].merge(right=merged_df, \n",
    "                          how='left',\n",
    "                          on=\"product_id\")\n",
    "merged_df = data_dict['olist_sellers_dataset'].merge(right=merged_df, \n",
    "                          how='left',\n",
    "                          on=\"seller_id\")\n",
    "\n",
    "final_df = merged_df[list_col]"
   ]
  },
  {
   "cell_type": "code",
   "execution_count": 78,
   "metadata": {},
   "outputs": [
    {
     "data": {
      "text/html": [
       "<div>\n",
       "<style scoped>\n",
       "    .dataframe tbody tr th:only-of-type {\n",
       "        vertical-align: middle;\n",
       "    }\n",
       "\n",
       "    .dataframe tbody tr th {\n",
       "        vertical-align: top;\n",
       "    }\n",
       "\n",
       "    .dataframe thead th {\n",
       "        text-align: right;\n",
       "    }\n",
       "</style>\n",
       "<table border=\"1\" class=\"dataframe\">\n",
       "  <thead>\n",
       "    <tr style=\"text-align: right;\">\n",
       "      <th></th>\n",
       "      <th>customer_id</th>\n",
       "      <th>customer_unique_id</th>\n",
       "      <th>order_id</th>\n",
       "      <th>product_id</th>\n",
       "      <th>seller_id</th>\n",
       "    </tr>\n",
       "  </thead>\n",
       "  <tbody>\n",
       "    <tr>\n",
       "      <th>count</th>\n",
       "      <td>110197</td>\n",
       "      <td>110197</td>\n",
       "      <td>110197</td>\n",
       "      <td>110197</td>\n",
       "      <td>110322</td>\n",
       "    </tr>\n",
       "    <tr>\n",
       "      <th>unique</th>\n",
       "      <td>96478</td>\n",
       "      <td>93358</td>\n",
       "      <td>96478</td>\n",
       "      <td>32216</td>\n",
       "      <td>3095</td>\n",
       "    </tr>\n",
       "    <tr>\n",
       "      <th>top</th>\n",
       "      <td>fc3d1daec319d62d49bfb5e1f83123e9</td>\n",
       "      <td>c8460e4251689ba205045f3ea17884a1</td>\n",
       "      <td>8272b63d03f5f79c56e9e4120aec44ef</td>\n",
       "      <td>aca2eb7d00ea1a7b8ebd4e68314663af</td>\n",
       "      <td>6560211a19b47992c3666cc44a7e94c0</td>\n",
       "    </tr>\n",
       "    <tr>\n",
       "      <th>freq</th>\n",
       "      <td>21</td>\n",
       "      <td>24</td>\n",
       "      <td>21</td>\n",
       "      <td>520</td>\n",
       "      <td>1996</td>\n",
       "    </tr>\n",
       "  </tbody>\n",
       "</table>\n",
       "</div>"
      ],
      "text/plain": [
       "                             customer_id                customer_unique_id  \\\n",
       "count                             110197                            110197   \n",
       "unique                             96478                             93358   \n",
       "top     fc3d1daec319d62d49bfb5e1f83123e9  c8460e4251689ba205045f3ea17884a1   \n",
       "freq                                  21                                24   \n",
       "\n",
       "                                order_id                        product_id  \\\n",
       "count                             110197                            110197   \n",
       "unique                             96478                             32216   \n",
       "top     8272b63d03f5f79c56e9e4120aec44ef  aca2eb7d00ea1a7b8ebd4e68314663af   \n",
       "freq                                  21                               520   \n",
       "\n",
       "                               seller_id  \n",
       "count                             110322  \n",
       "unique                              3095  \n",
       "top     6560211a19b47992c3666cc44a7e94c0  \n",
       "freq                                1996  "
      ]
     },
     "execution_count": 78,
     "metadata": {},
     "output_type": "execute_result"
    }
   ],
   "source": [
    "final_df.describe()"
   ]
  },
  {
   "cell_type": "code",
   "execution_count": 79,
   "metadata": {},
   "outputs": [
    {
     "data": {
      "text/html": [
       "<div>\n",
       "<style scoped>\n",
       "    .dataframe tbody tr th:only-of-type {\n",
       "        vertical-align: middle;\n",
       "    }\n",
       "\n",
       "    .dataframe tbody tr th {\n",
       "        vertical-align: top;\n",
       "    }\n",
       "\n",
       "    .dataframe thead th {\n",
       "        text-align: right;\n",
       "    }\n",
       "</style>\n",
       "<table border=\"1\" class=\"dataframe\">\n",
       "  <thead>\n",
       "    <tr style=\"text-align: right;\">\n",
       "      <th></th>\n",
       "      <th>seller_id</th>\n",
       "      <th>seller_zip_code_prefix</th>\n",
       "      <th>seller_city</th>\n",
       "      <th>seller_state</th>\n",
       "      <th>product_id</th>\n",
       "      <th>product_category_name</th>\n",
       "      <th>product_name_lenght</th>\n",
       "      <th>product_description_lenght</th>\n",
       "      <th>product_photos_qty</th>\n",
       "      <th>product_weight_g</th>\n",
       "      <th>...</th>\n",
       "      <th>order_delivered_customer_date</th>\n",
       "      <th>order_estimated_delivery_date</th>\n",
       "      <th>customer_unique_id</th>\n",
       "      <th>customer_zip_code_prefix</th>\n",
       "      <th>customer_city</th>\n",
       "      <th>customer_state</th>\n",
       "      <th>order_item_id</th>\n",
       "      <th>shipping_limit_date</th>\n",
       "      <th>price</th>\n",
       "      <th>freight_value</th>\n",
       "    </tr>\n",
       "  </thead>\n",
       "  <tbody>\n",
       "    <tr>\n",
       "      <th>0</th>\n",
       "      <td>3442f8959a84dea7ee197c632cb2df15</td>\n",
       "      <td>13023</td>\n",
       "      <td>campinas</td>\n",
       "      <td>SP</td>\n",
       "      <td>ffb64e34a37740dafb6c88f1abd1fa61</td>\n",
       "      <td>esporte_lazer</td>\n",
       "      <td>26.0</td>\n",
       "      <td>417.0</td>\n",
       "      <td>3.0</td>\n",
       "      <td>700.0</td>\n",
       "      <td>...</td>\n",
       "      <td>2017-08-30 16:07:13</td>\n",
       "      <td>2017-09-01 00:00:00</td>\n",
       "      <td>f421a2a66b69dbfe6db0c87845281a90</td>\n",
       "      <td>4661.0</td>\n",
       "      <td>sao paulo</td>\n",
       "      <td>SP</td>\n",
       "      <td>1.0</td>\n",
       "      <td>2017-08-25 20:50:19</td>\n",
       "      <td>106.2</td>\n",
       "      <td>9.56</td>\n",
       "    </tr>\n",
       "    <tr>\n",
       "      <th>1</th>\n",
       "      <td>3442f8959a84dea7ee197c632cb2df15</td>\n",
       "      <td>13023</td>\n",
       "      <td>campinas</td>\n",
       "      <td>SP</td>\n",
       "      <td>325a06bcce0da45b7f4ecf2797dd40e4</td>\n",
       "      <td>esporte_lazer</td>\n",
       "      <td>44.0</td>\n",
       "      <td>1089.0</td>\n",
       "      <td>1.0</td>\n",
       "      <td>300.0</td>\n",
       "      <td>...</td>\n",
       "      <td>2017-09-01 16:51:26</td>\n",
       "      <td>2017-09-20 00:00:00</td>\n",
       "      <td>af0f26435fade1ca984d9affda307199</td>\n",
       "      <td>9310.0</td>\n",
       "      <td>maua</td>\n",
       "      <td>SP</td>\n",
       "      <td>2.0</td>\n",
       "      <td>2017-09-05 12:50:19</td>\n",
       "      <td>10.8</td>\n",
       "      <td>2.42</td>\n",
       "    </tr>\n",
       "    <tr>\n",
       "      <th>2</th>\n",
       "      <td>3442f8959a84dea7ee197c632cb2df15</td>\n",
       "      <td>13023</td>\n",
       "      <td>campinas</td>\n",
       "      <td>SP</td>\n",
       "      <td>f4621f8ad6f54a2e3c408884068be46d</td>\n",
       "      <td>esporte_lazer</td>\n",
       "      <td>27.0</td>\n",
       "      <td>485.0</td>\n",
       "      <td>2.0</td>\n",
       "      <td>600.0</td>\n",
       "      <td>...</td>\n",
       "      <td>2017-06-02 16:57:44</td>\n",
       "      <td>2017-05-30 00:00:00</td>\n",
       "      <td>b4527423469300ee354458e1b5f961be</td>\n",
       "      <td>32223.0</td>\n",
       "      <td>contagem</td>\n",
       "      <td>MG</td>\n",
       "      <td>1.0</td>\n",
       "      <td>2017-05-11 16:25:11</td>\n",
       "      <td>101.7</td>\n",
       "      <td>15.92</td>\n",
       "    </tr>\n",
       "    <tr>\n",
       "      <th>3</th>\n",
       "      <td>d1b65fc7debc3361ea86b5f14c68d2e2</td>\n",
       "      <td>13844</td>\n",
       "      <td>mogi guacu</td>\n",
       "      <td>SP</td>\n",
       "      <td>55103cbbe0851d3a303a022cc4140628</td>\n",
       "      <td>malas_acessorios</td>\n",
       "      <td>32.0</td>\n",
       "      <td>1064.0</td>\n",
       "      <td>5.0</td>\n",
       "      <td>2900.0</td>\n",
       "      <td>...</td>\n",
       "      <td>2017-08-14 22:00:05</td>\n",
       "      <td>2017-08-24 00:00:00</td>\n",
       "      <td>fbc9c3a06d228159f866fd7bcd32febe</td>\n",
       "      <td>13092.0</td>\n",
       "      <td>campinas</td>\n",
       "      <td>SP</td>\n",
       "      <td>1.0</td>\n",
       "      <td>2017-08-17 23:30:18</td>\n",
       "      <td>199.9</td>\n",
       "      <td>23.40</td>\n",
       "    </tr>\n",
       "    <tr>\n",
       "      <th>4</th>\n",
       "      <td>d1b65fc7debc3361ea86b5f14c68d2e2</td>\n",
       "      <td>13844</td>\n",
       "      <td>mogi guacu</td>\n",
       "      <td>SP</td>\n",
       "      <td>1c36a5285f7f3b1ed2637d7c528ce5ff</td>\n",
       "      <td>malas_acessorios</td>\n",
       "      <td>21.0</td>\n",
       "      <td>769.0</td>\n",
       "      <td>4.0</td>\n",
       "      <td>1600.0</td>\n",
       "      <td>...</td>\n",
       "      <td>2017-06-27 16:18:39</td>\n",
       "      <td>2017-07-05 00:00:00</td>\n",
       "      <td>f95a2fb1caacbd10edbe4afa7a5980f8</td>\n",
       "      <td>13416.0</td>\n",
       "      <td>piracicaba</td>\n",
       "      <td>SP</td>\n",
       "      <td>1.0</td>\n",
       "      <td>2017-06-30 02:25:24</td>\n",
       "      <td>99.9</td>\n",
       "      <td>22.70</td>\n",
       "    </tr>\n",
       "    <tr>\n",
       "      <th>...</th>\n",
       "      <td>...</td>\n",
       "      <td>...</td>\n",
       "      <td>...</td>\n",
       "      <td>...</td>\n",
       "      <td>...</td>\n",
       "      <td>...</td>\n",
       "      <td>...</td>\n",
       "      <td>...</td>\n",
       "      <td>...</td>\n",
       "      <td>...</td>\n",
       "      <td>...</td>\n",
       "      <td>...</td>\n",
       "      <td>...</td>\n",
       "      <td>...</td>\n",
       "      <td>...</td>\n",
       "      <td>...</td>\n",
       "      <td>...</td>\n",
       "      <td>...</td>\n",
       "      <td>...</td>\n",
       "      <td>...</td>\n",
       "      <td>...</td>\n",
       "    </tr>\n",
       "    <tr>\n",
       "      <th>110317</th>\n",
       "      <td>e603cf3fec55f8697c9059638d6c8eb5</td>\n",
       "      <td>96080</td>\n",
       "      <td>pelotas</td>\n",
       "      <td>RS</td>\n",
       "      <td>e891d4a9622cae3b9fc2ec558bda155b</td>\n",
       "      <td>NaN</td>\n",
       "      <td>NaN</td>\n",
       "      <td>NaN</td>\n",
       "      <td>NaN</td>\n",
       "      <td>400.0</td>\n",
       "      <td>...</td>\n",
       "      <td>2017-04-10 16:37:06</td>\n",
       "      <td>2017-05-03 00:00:00</td>\n",
       "      <td>9107bdcabca6373f0a08e83943f19df3</td>\n",
       "      <td>1404.0</td>\n",
       "      <td>sao paulo</td>\n",
       "      <td>SP</td>\n",
       "      <td>1.0</td>\n",
       "      <td>2017-04-11 18:05:17</td>\n",
       "      <td>27.0</td>\n",
       "      <td>16.05</td>\n",
       "    </tr>\n",
       "    <tr>\n",
       "      <th>110318</th>\n",
       "      <td>e603cf3fec55f8697c9059638d6c8eb5</td>\n",
       "      <td>96080</td>\n",
       "      <td>pelotas</td>\n",
       "      <td>RS</td>\n",
       "      <td>e891d4a9622cae3b9fc2ec558bda155b</td>\n",
       "      <td>NaN</td>\n",
       "      <td>NaN</td>\n",
       "      <td>NaN</td>\n",
       "      <td>NaN</td>\n",
       "      <td>400.0</td>\n",
       "      <td>...</td>\n",
       "      <td>2017-04-06 13:28:47</td>\n",
       "      <td>2017-05-03 00:00:00</td>\n",
       "      <td>5dbcb21f1c87086be75be5245226e4ab</td>\n",
       "      <td>5410.0</td>\n",
       "      <td>sao paulo</td>\n",
       "      <td>SP</td>\n",
       "      <td>1.0</td>\n",
       "      <td>2017-04-10 10:05:10</td>\n",
       "      <td>27.0</td>\n",
       "      <td>16.05</td>\n",
       "    </tr>\n",
       "    <tr>\n",
       "      <th>110319</th>\n",
       "      <td>e603cf3fec55f8697c9059638d6c8eb5</td>\n",
       "      <td>96080</td>\n",
       "      <td>pelotas</td>\n",
       "      <td>RS</td>\n",
       "      <td>e891d4a9622cae3b9fc2ec558bda155b</td>\n",
       "      <td>NaN</td>\n",
       "      <td>NaN</td>\n",
       "      <td>NaN</td>\n",
       "      <td>NaN</td>\n",
       "      <td>400.0</td>\n",
       "      <td>...</td>\n",
       "      <td>2017-02-13 11:09:14</td>\n",
       "      <td>2017-03-10 00:00:00</td>\n",
       "      <td>7cf7ff4cfdd173d22be49c668ba75f1d</td>\n",
       "      <td>5465.0</td>\n",
       "      <td>sao paulo</td>\n",
       "      <td>SP</td>\n",
       "      <td>1.0</td>\n",
       "      <td>2017-02-13 11:32:53</td>\n",
       "      <td>27.0</td>\n",
       "      <td>16.05</td>\n",
       "    </tr>\n",
       "    <tr>\n",
       "      <th>110320</th>\n",
       "      <td>e603cf3fec55f8697c9059638d6c8eb5</td>\n",
       "      <td>96080</td>\n",
       "      <td>pelotas</td>\n",
       "      <td>RS</td>\n",
       "      <td>e891d4a9622cae3b9fc2ec558bda155b</td>\n",
       "      <td>NaN</td>\n",
       "      <td>NaN</td>\n",
       "      <td>NaN</td>\n",
       "      <td>NaN</td>\n",
       "      <td>400.0</td>\n",
       "      <td>...</td>\n",
       "      <td>2017-02-13 11:09:12</td>\n",
       "      <td>2017-03-10 00:00:00</td>\n",
       "      <td>637ce3a8eb17677024b70124b5ff7040</td>\n",
       "      <td>92990.0</td>\n",
       "      <td>eldorado do sul</td>\n",
       "      <td>RS</td>\n",
       "      <td>1.0</td>\n",
       "      <td>2017-02-15 16:42:59</td>\n",
       "      <td>27.0</td>\n",
       "      <td>10.96</td>\n",
       "    </tr>\n",
       "    <tr>\n",
       "      <th>110321</th>\n",
       "      <td>9e25199f6ef7e7c347120ff175652c3b</td>\n",
       "      <td>12051</td>\n",
       "      <td>taubate</td>\n",
       "      <td>SP</td>\n",
       "      <td>179bb56045bec397c52ef3c8183dabb6</td>\n",
       "      <td>utilidades_domesticas</td>\n",
       "      <td>56.0</td>\n",
       "      <td>512.0</td>\n",
       "      <td>3.0</td>\n",
       "      <td>300.0</td>\n",
       "      <td>...</td>\n",
       "      <td>2017-04-04 14:46:53</td>\n",
       "      <td>2017-04-18 00:00:00</td>\n",
       "      <td>55a08a9545274dc36a0c5804389217d4</td>\n",
       "      <td>38402.0</td>\n",
       "      <td>uberlandia</td>\n",
       "      <td>MG</td>\n",
       "      <td>1.0</td>\n",
       "      <td>2017-03-31 10:10:27</td>\n",
       "      <td>12.5</td>\n",
       "      <td>14.52</td>\n",
       "    </tr>\n",
       "  </tbody>\n",
       "</table>\n",
       "<p>110322 rows × 29 columns</p>\n",
       "</div>"
      ],
      "text/plain": [
       "                               seller_id  seller_zip_code_prefix seller_city  \\\n",
       "0       3442f8959a84dea7ee197c632cb2df15                   13023    campinas   \n",
       "1       3442f8959a84dea7ee197c632cb2df15                   13023    campinas   \n",
       "2       3442f8959a84dea7ee197c632cb2df15                   13023    campinas   \n",
       "3       d1b65fc7debc3361ea86b5f14c68d2e2                   13844  mogi guacu   \n",
       "4       d1b65fc7debc3361ea86b5f14c68d2e2                   13844  mogi guacu   \n",
       "...                                  ...                     ...         ...   \n",
       "110317  e603cf3fec55f8697c9059638d6c8eb5                   96080     pelotas   \n",
       "110318  e603cf3fec55f8697c9059638d6c8eb5                   96080     pelotas   \n",
       "110319  e603cf3fec55f8697c9059638d6c8eb5                   96080     pelotas   \n",
       "110320  e603cf3fec55f8697c9059638d6c8eb5                   96080     pelotas   \n",
       "110321  9e25199f6ef7e7c347120ff175652c3b                   12051     taubate   \n",
       "\n",
       "       seller_state                        product_id  product_category_name  \\\n",
       "0                SP  ffb64e34a37740dafb6c88f1abd1fa61          esporte_lazer   \n",
       "1                SP  325a06bcce0da45b7f4ecf2797dd40e4          esporte_lazer   \n",
       "2                SP  f4621f8ad6f54a2e3c408884068be46d          esporte_lazer   \n",
       "3                SP  55103cbbe0851d3a303a022cc4140628       malas_acessorios   \n",
       "4                SP  1c36a5285f7f3b1ed2637d7c528ce5ff       malas_acessorios   \n",
       "...             ...                               ...                    ...   \n",
       "110317           RS  e891d4a9622cae3b9fc2ec558bda155b                    NaN   \n",
       "110318           RS  e891d4a9622cae3b9fc2ec558bda155b                    NaN   \n",
       "110319           RS  e891d4a9622cae3b9fc2ec558bda155b                    NaN   \n",
       "110320           RS  e891d4a9622cae3b9fc2ec558bda155b                    NaN   \n",
       "110321           SP  179bb56045bec397c52ef3c8183dabb6  utilidades_domesticas   \n",
       "\n",
       "        product_name_lenght  product_description_lenght  product_photos_qty  \\\n",
       "0                      26.0                       417.0                 3.0   \n",
       "1                      44.0                      1089.0                 1.0   \n",
       "2                      27.0                       485.0                 2.0   \n",
       "3                      32.0                      1064.0                 5.0   \n",
       "4                      21.0                       769.0                 4.0   \n",
       "...                     ...                         ...                 ...   \n",
       "110317                  NaN                         NaN                 NaN   \n",
       "110318                  NaN                         NaN                 NaN   \n",
       "110319                  NaN                         NaN                 NaN   \n",
       "110320                  NaN                         NaN                 NaN   \n",
       "110321                 56.0                       512.0                 3.0   \n",
       "\n",
       "        product_weight_g  ...  order_delivered_customer_date  \\\n",
       "0                  700.0  ...            2017-08-30 16:07:13   \n",
       "1                  300.0  ...            2017-09-01 16:51:26   \n",
       "2                  600.0  ...            2017-06-02 16:57:44   \n",
       "3                 2900.0  ...            2017-08-14 22:00:05   \n",
       "4                 1600.0  ...            2017-06-27 16:18:39   \n",
       "...                  ...  ...                            ...   \n",
       "110317             400.0  ...            2017-04-10 16:37:06   \n",
       "110318             400.0  ...            2017-04-06 13:28:47   \n",
       "110319             400.0  ...            2017-02-13 11:09:14   \n",
       "110320             400.0  ...            2017-02-13 11:09:12   \n",
       "110321             300.0  ...            2017-04-04 14:46:53   \n",
       "\n",
       "        order_estimated_delivery_date                customer_unique_id  \\\n",
       "0                 2017-09-01 00:00:00  f421a2a66b69dbfe6db0c87845281a90   \n",
       "1                 2017-09-20 00:00:00  af0f26435fade1ca984d9affda307199   \n",
       "2                 2017-05-30 00:00:00  b4527423469300ee354458e1b5f961be   \n",
       "3                 2017-08-24 00:00:00  fbc9c3a06d228159f866fd7bcd32febe   \n",
       "4                 2017-07-05 00:00:00  f95a2fb1caacbd10edbe4afa7a5980f8   \n",
       "...                               ...                               ...   \n",
       "110317            2017-05-03 00:00:00  9107bdcabca6373f0a08e83943f19df3   \n",
       "110318            2017-05-03 00:00:00  5dbcb21f1c87086be75be5245226e4ab   \n",
       "110319            2017-03-10 00:00:00  7cf7ff4cfdd173d22be49c668ba75f1d   \n",
       "110320            2017-03-10 00:00:00  637ce3a8eb17677024b70124b5ff7040   \n",
       "110321            2017-04-18 00:00:00  55a08a9545274dc36a0c5804389217d4   \n",
       "\n",
       "       customer_zip_code_prefix    customer_city customer_state order_item_id  \\\n",
       "0                        4661.0        sao paulo             SP           1.0   \n",
       "1                        9310.0             maua             SP           2.0   \n",
       "2                       32223.0         contagem             MG           1.0   \n",
       "3                       13092.0         campinas             SP           1.0   \n",
       "4                       13416.0       piracicaba             SP           1.0   \n",
       "...                         ...              ...            ...           ...   \n",
       "110317                   1404.0        sao paulo             SP           1.0   \n",
       "110318                   5410.0        sao paulo             SP           1.0   \n",
       "110319                   5465.0        sao paulo             SP           1.0   \n",
       "110320                  92990.0  eldorado do sul             RS           1.0   \n",
       "110321                  38402.0       uberlandia             MG           1.0   \n",
       "\n",
       "        shipping_limit_date  price freight_value  \n",
       "0       2017-08-25 20:50:19  106.2          9.56  \n",
       "1       2017-09-05 12:50:19   10.8          2.42  \n",
       "2       2017-05-11 16:25:11  101.7         15.92  \n",
       "3       2017-08-17 23:30:18  199.9         23.40  \n",
       "4       2017-06-30 02:25:24   99.9         22.70  \n",
       "...                     ...    ...           ...  \n",
       "110317  2017-04-11 18:05:17   27.0         16.05  \n",
       "110318  2017-04-10 10:05:10   27.0         16.05  \n",
       "110319  2017-02-13 11:32:53   27.0         16.05  \n",
       "110320  2017-02-15 16:42:59   27.0         10.96  \n",
       "110321  2017-03-31 10:10:27   12.5         14.52  \n",
       "\n",
       "[110322 rows x 29 columns]"
      ]
     },
     "execution_count": 79,
     "metadata": {},
     "output_type": "execute_result"
    }
   ],
   "source": [
    "merged_df"
   ]
  },
  {
   "cell_type": "code",
   "execution_count": 80,
   "metadata": {},
   "outputs": [],
   "source": [
    "# Inspect the cardinality of the final DataFrame. It should match the highest one. "
   ]
  },
  {
   "cell_type": "code",
   "execution_count": 92,
   "metadata": {},
   "outputs": [
    {
     "name": "stdout",
     "output_type": "stream",
     "text": [
      "The autoreload extension is already loaded. To reload it, use:\n",
      "  %reload_ext autoreload\n"
     ]
    }
   ],
   "source": [
    "%load_ext autoreload\n",
    "%autoreload 2"
   ]
  },
  {
   "cell_type": "code",
   "execution_count": 93,
   "metadata": {},
   "outputs": [],
   "source": [
    "from olist.data import Olist"
   ]
  },
  {
   "cell_type": "code",
   "execution_count": 94,
   "metadata": {},
   "outputs": [],
   "source": [
    "olist = Olist()\n",
    "matching_table = olist.get_matching_table()"
   ]
  },
  {
   "cell_type": "code",
   "execution_count": 95,
   "metadata": {},
   "outputs": [
    {
     "data": {
      "text/html": [
       "<div>\n",
       "<style scoped>\n",
       "    .dataframe tbody tr th:only-of-type {\n",
       "        vertical-align: middle;\n",
       "    }\n",
       "\n",
       "    .dataframe tbody tr th {\n",
       "        vertical-align: top;\n",
       "    }\n",
       "\n",
       "    .dataframe thead th {\n",
       "        text-align: right;\n",
       "    }\n",
       "</style>\n",
       "<table border=\"1\" class=\"dataframe\">\n",
       "  <thead>\n",
       "    <tr style=\"text-align: right;\">\n",
       "      <th></th>\n",
       "      <th>customer_id</th>\n",
       "      <th>customer_unique_id</th>\n",
       "      <th>order_id</th>\n",
       "      <th>product_id</th>\n",
       "      <th>seller_id</th>\n",
       "    </tr>\n",
       "  </thead>\n",
       "  <tbody>\n",
       "    <tr>\n",
       "      <th>0</th>\n",
       "      <td>9d6837f9700a3441e7183bff3bc4eef0</td>\n",
       "      <td>f421a2a66b69dbfe6db0c87845281a90</td>\n",
       "      <td>4a90af3e85dd563884e2afeab1091394</td>\n",
       "      <td>ffb64e34a37740dafb6c88f1abd1fa61</td>\n",
       "      <td>3442f8959a84dea7ee197c632cb2df15</td>\n",
       "    </tr>\n",
       "    <tr>\n",
       "      <th>1</th>\n",
       "      <td>1554ffe702931a062b4383b109accf63</td>\n",
       "      <td>af0f26435fade1ca984d9affda307199</td>\n",
       "      <td>bc8a5de6abf5b14f98a6135a7fb46731</td>\n",
       "      <td>325a06bcce0da45b7f4ecf2797dd40e4</td>\n",
       "      <td>3442f8959a84dea7ee197c632cb2df15</td>\n",
       "    </tr>\n",
       "    <tr>\n",
       "      <th>2</th>\n",
       "      <td>a973c4e3ad82777add3fa188f91dacea</td>\n",
       "      <td>b4527423469300ee354458e1b5f961be</td>\n",
       "      <td>6d953888a914b67350d5bc4d48f2acab</td>\n",
       "      <td>f4621f8ad6f54a2e3c408884068be46d</td>\n",
       "      <td>3442f8959a84dea7ee197c632cb2df15</td>\n",
       "    </tr>\n",
       "    <tr>\n",
       "      <th>3</th>\n",
       "      <td>5511a7cbeae2a3a17ce3598944a5793e</td>\n",
       "      <td>fbc9c3a06d228159f866fd7bcd32febe</td>\n",
       "      <td>7a95f5626df09176d8823cbce3d9db1e</td>\n",
       "      <td>55103cbbe0851d3a303a022cc4140628</td>\n",
       "      <td>d1b65fc7debc3361ea86b5f14c68d2e2</td>\n",
       "    </tr>\n",
       "    <tr>\n",
       "      <th>4</th>\n",
       "      <td>28635c64d8f2aee6e47124350f7ffb38</td>\n",
       "      <td>f95a2fb1caacbd10edbe4afa7a5980f8</td>\n",
       "      <td>06e4e324b83309e575442446e34377d7</td>\n",
       "      <td>1c36a5285f7f3b1ed2637d7c528ce5ff</td>\n",
       "      <td>d1b65fc7debc3361ea86b5f14c68d2e2</td>\n",
       "    </tr>\n",
       "    <tr>\n",
       "      <th>...</th>\n",
       "      <td>...</td>\n",
       "      <td>...</td>\n",
       "      <td>...</td>\n",
       "      <td>...</td>\n",
       "      <td>...</td>\n",
       "    </tr>\n",
       "    <tr>\n",
       "      <th>110192</th>\n",
       "      <td>9a3aaf9447f2fbd34372e69398b2ede3</td>\n",
       "      <td>9107bdcabca6373f0a08e83943f19df3</td>\n",
       "      <td>bc34d5b185152cb88b9f5db391dcd1cb</td>\n",
       "      <td>e891d4a9622cae3b9fc2ec558bda155b</td>\n",
       "      <td>e603cf3fec55f8697c9059638d6c8eb5</td>\n",
       "    </tr>\n",
       "    <tr>\n",
       "      <th>110193</th>\n",
       "      <td>30f9adf897b5a65c80f9a9fb5bd03234</td>\n",
       "      <td>5dbcb21f1c87086be75be5245226e4ab</td>\n",
       "      <td>1ad1ca4550bd6dbd299d8538a86e5400</td>\n",
       "      <td>e891d4a9622cae3b9fc2ec558bda155b</td>\n",
       "      <td>e603cf3fec55f8697c9059638d6c8eb5</td>\n",
       "    </tr>\n",
       "    <tr>\n",
       "      <th>110194</th>\n",
       "      <td>58cd1c5b5fc40c1bc3448b6bae54f34b</td>\n",
       "      <td>7cf7ff4cfdd173d22be49c668ba75f1d</td>\n",
       "      <td>683076b91bcaf79259334f6aa80d41a3</td>\n",
       "      <td>e891d4a9622cae3b9fc2ec558bda155b</td>\n",
       "      <td>e603cf3fec55f8697c9059638d6c8eb5</td>\n",
       "    </tr>\n",
       "    <tr>\n",
       "      <th>110195</th>\n",
       "      <td>63d8ce2f854381279f3b762e962dc969</td>\n",
       "      <td>637ce3a8eb17677024b70124b5ff7040</td>\n",
       "      <td>aae373a2cc64ed2d1f262aa56e70b7e8</td>\n",
       "      <td>e891d4a9622cae3b9fc2ec558bda155b</td>\n",
       "      <td>e603cf3fec55f8697c9059638d6c8eb5</td>\n",
       "    </tr>\n",
       "    <tr>\n",
       "      <th>110196</th>\n",
       "      <td>2138affd6c52e411fa91777f2e2694f6</td>\n",
       "      <td>55a08a9545274dc36a0c5804389217d4</td>\n",
       "      <td>f7b6b85f6fd2cf9aac15731dca998844</td>\n",
       "      <td>179bb56045bec397c52ef3c8183dabb6</td>\n",
       "      <td>9e25199f6ef7e7c347120ff175652c3b</td>\n",
       "    </tr>\n",
       "  </tbody>\n",
       "</table>\n",
       "<p>110197 rows × 5 columns</p>\n",
       "</div>"
      ],
      "text/plain": [
       "                             customer_id                customer_unique_id  \\\n",
       "0       9d6837f9700a3441e7183bff3bc4eef0  f421a2a66b69dbfe6db0c87845281a90   \n",
       "1       1554ffe702931a062b4383b109accf63  af0f26435fade1ca984d9affda307199   \n",
       "2       a973c4e3ad82777add3fa188f91dacea  b4527423469300ee354458e1b5f961be   \n",
       "3       5511a7cbeae2a3a17ce3598944a5793e  fbc9c3a06d228159f866fd7bcd32febe   \n",
       "4       28635c64d8f2aee6e47124350f7ffb38  f95a2fb1caacbd10edbe4afa7a5980f8   \n",
       "...                                  ...                               ...   \n",
       "110192  9a3aaf9447f2fbd34372e69398b2ede3  9107bdcabca6373f0a08e83943f19df3   \n",
       "110193  30f9adf897b5a65c80f9a9fb5bd03234  5dbcb21f1c87086be75be5245226e4ab   \n",
       "110194  58cd1c5b5fc40c1bc3448b6bae54f34b  7cf7ff4cfdd173d22be49c668ba75f1d   \n",
       "110195  63d8ce2f854381279f3b762e962dc969  637ce3a8eb17677024b70124b5ff7040   \n",
       "110196  2138affd6c52e411fa91777f2e2694f6  55a08a9545274dc36a0c5804389217d4   \n",
       "\n",
       "                                order_id                        product_id  \\\n",
       "0       4a90af3e85dd563884e2afeab1091394  ffb64e34a37740dafb6c88f1abd1fa61   \n",
       "1       bc8a5de6abf5b14f98a6135a7fb46731  325a06bcce0da45b7f4ecf2797dd40e4   \n",
       "2       6d953888a914b67350d5bc4d48f2acab  f4621f8ad6f54a2e3c408884068be46d   \n",
       "3       7a95f5626df09176d8823cbce3d9db1e  55103cbbe0851d3a303a022cc4140628   \n",
       "4       06e4e324b83309e575442446e34377d7  1c36a5285f7f3b1ed2637d7c528ce5ff   \n",
       "...                                  ...                               ...   \n",
       "110192  bc34d5b185152cb88b9f5db391dcd1cb  e891d4a9622cae3b9fc2ec558bda155b   \n",
       "110193  1ad1ca4550bd6dbd299d8538a86e5400  e891d4a9622cae3b9fc2ec558bda155b   \n",
       "110194  683076b91bcaf79259334f6aa80d41a3  e891d4a9622cae3b9fc2ec558bda155b   \n",
       "110195  aae373a2cc64ed2d1f262aa56e70b7e8  e891d4a9622cae3b9fc2ec558bda155b   \n",
       "110196  f7b6b85f6fd2cf9aac15731dca998844  179bb56045bec397c52ef3c8183dabb6   \n",
       "\n",
       "                               seller_id  \n",
       "0       3442f8959a84dea7ee197c632cb2df15  \n",
       "1       3442f8959a84dea7ee197c632cb2df15  \n",
       "2       3442f8959a84dea7ee197c632cb2df15  \n",
       "3       d1b65fc7debc3361ea86b5f14c68d2e2  \n",
       "4       d1b65fc7debc3361ea86b5f14c68d2e2  \n",
       "...                                  ...  \n",
       "110192  e603cf3fec55f8697c9059638d6c8eb5  \n",
       "110193  e603cf3fec55f8697c9059638d6c8eb5  \n",
       "110194  e603cf3fec55f8697c9059638d6c8eb5  \n",
       "110195  e603cf3fec55f8697c9059638d6c8eb5  \n",
       "110196  9e25199f6ef7e7c347120ff175652c3b  \n",
       "\n",
       "[110197 rows x 5 columns]"
      ]
     },
     "execution_count": 95,
     "metadata": {},
     "output_type": "execute_result"
    }
   ],
   "source": [
    "matching_table"
   ]
  },
  {
   "cell_type": "code",
   "execution_count": null,
   "metadata": {},
   "outputs": [],
   "source": []
  },
  {
   "cell_type": "code",
   "execution_count": null,
   "metadata": {},
   "outputs": [],
   "source": []
  }
 ],
 "metadata": {
  "kernelspec": {
   "display_name": "Python 3",
   "language": "python",
   "name": "python3"
  },
  "language_info": {
   "codemirror_mode": {
    "name": "ipython",
    "version": 3
   },
   "file_extension": ".py",
   "mimetype": "text/x-python",
   "name": "python",
   "nbconvert_exporter": "python",
   "pygments_lexer": "ipython3",
   "version": "3.7.6"
  },
  "toc": {
   "base_numbering": 1,
   "nav_menu": {},
   "number_sections": false,
   "sideBar": true,
   "skip_h1_title": false,
   "title_cell": "Table of Contents",
   "title_sidebar": "Contents",
   "toc_cell": false,
   "toc_position": {},
   "toc_section_display": true,
   "toc_window_display": true
  }
 },
 "nbformat": 4,
 "nbformat_minor": 4
}
