{
 "cells": [
  {
   "cell_type": "markdown",
   "metadata": {},
   "source": [
    "## Metric Design "
   ]
  },
  {
   "cell_type": "markdown",
   "metadata": {},
   "source": [
    "### Introduction"
   ]
  },
  {
   "cell_type": "markdown",
   "metadata": {},
   "source": [
    "In this exercice we are going to define a set of output and input metrics that will be relevant for the rest of our analysis. "
   ]
  },
  {
   "cell_type": "markdown",
   "metadata": {},
   "source": [
    "### Exercices"
   ]
  },
  {
   "cell_type": "markdown",
   "metadata": {},
   "source": [
    "Frequency \n",
    "\n",
    "- What's the frequency of `review_score` from table `olist_order_reviews_dataset`?\n",
    "- What's the frequency of `order_status` from the table `olist_orders_dataset`?\n",
    "- In which state are sellers mostly located? What about customers?\n",
    "\n",
    "Metrics \n",
    "- Which metric would you use as the output metric of Olist? \n",
    "- Which metric would you use to measure that a customer had a good experience with Olist? \n",
    "- Which metric would you use to measure shipping delay?\n",
    "- For each metric, plot a trend line over time."
   ]
  },
  {
   "cell_type": "markdown",
   "metadata": {},
   "source": [
    "### 1 - Frequency "
   ]
  },
  {
   "cell_type": "code",
<<<<<<< HEAD
   "execution_count": null,
=======
   "execution_count": 1,
>>>>>>> e94eb76373e74287e0f3401c0c27781d51003ecf
   "metadata": {},
   "outputs": [],
   "source": [
    "#load modules \n",
    "\n",
    "import pandas as pd\n",
    "import numpy as np\n",
    "import os\n",
    "import seaborn as sns"
   ]
  },
  {
   "cell_type": "code",
<<<<<<< HEAD
   "execution_count": null,
=======
   "execution_count": 2,
>>>>>>> e94eb76373e74287e0f3401c0c27781d51003ecf
   "metadata": {},
   "outputs": [],
   "source": [
    "#load data\n",
    "from ...olist.data import Olist\n",
    "\n",
    "olist = Olist()\n",
    "data = olist.get_data()"
   ]
  },
  {
   "cell_type": "code",
<<<<<<< HEAD
   "execution_count": null,
=======
   "execution_count": 3,
   "metadata": {},
   "outputs": [
    {
     "data": {
      "text/plain": [
       "dict_keys(['olist_sellers_dataset', 'product_category_name_translation', 'olist_orders_dataset', 'olist_order_items_dataset', 'olist_customers_dataset', 'olist_geolocation_dataset', 'olist_order_payments_dataset', 'olist_order_reviews_dataset', 'olist_products_dataset'])"
      ]
     },
     "execution_count": 3,
     "metadata": {},
     "output_type": "execute_result"
    }
   ],
   "source": [
    "data.keys()"
   ]
  },
  {
   "cell_type": "code",
   "execution_count": 4,
>>>>>>> e94eb76373e74287e0f3401c0c27781d51003ecf
   "metadata": {},
   "outputs": [],
   "source": [
    "#Plot a histogram of review_score "
   ]
  },
  {
   "cell_type": "code",
<<<<<<< HEAD
   "execution_count": null,
=======
   "execution_count": 5,
>>>>>>> e94eb76373e74287e0f3401c0c27781d51003ecf
   "metadata": {},
   "outputs": [],
   "source": [
    "#Plot histogram of order_staus"
   ]
  },
  {
   "cell_type": "code",
<<<<<<< HEAD
   "execution_count": null,
=======
   "execution_count": 6,
>>>>>>> e94eb76373e74287e0f3401c0c27781d51003ecf
   "metadata": {},
   "outputs": [],
   "source": [
    "#Plot histogram of seller states"
   ]
  },
  {
   "cell_type": "code",
<<<<<<< HEAD
   "execution_count": null,
=======
   "execution_count": 7,
>>>>>>> e94eb76373e74287e0f3401c0c27781d51003ecf
   "metadata": {},
   "outputs": [],
   "source": [
    "#Plot histogram of customers states"
   ]
  },
  {
   "cell_type": "markdown",
   "metadata": {},
   "source": [
    "## 2 - Metrics"
   ]
  },
  {
   "cell_type": "markdown",
   "metadata": {},
   "source": [
    "#### Ouptut metric"
   ]
  },
  {
   "cell_type": "code",
<<<<<<< HEAD
   "execution_count": null,
   "metadata": {},
   "outputs": [],
=======
   "execution_count": 8,
   "metadata": {},
   "outputs": [
    {
     "data": {
      "text/plain": [
       "(array([1.10685e+05, 1.51600e+03, 3.26000e+02, 7.70000e+01, 2.70000e+01,\n",
       "        1.00000e+01, 5.00000e+00, 1.00000e+00, 0.00000e+00, 3.00000e+00]),\n",
       " array([8.500000e-01, 6.742650e+02, 1.347680e+03, 2.021095e+03,\n",
       "        2.694510e+03, 3.367925e+03, 4.041340e+03, 4.714755e+03,\n",
       "        5.388170e+03, 6.061585e+03, 6.735000e+03]),\n",
       " <a list of 10 Patch objects>)"
      ]
     },
     "execution_count": 8,
     "metadata": {},
     "output_type": "execute_result"
    },
    {
     "data": {
      "image/png": "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\n",
      "text/plain": [
       "<Figure size 432x288 with 1 Axes>"
      ]
     },
     "metadata": {
      "needs_background": "light"
     },
     "output_type": "display_data"
    }
   ],
>>>>>>> e94eb76373e74287e0f3401c0c27781d51003ecf
   "source": [
    "#Plot output metric "
   ]
  },
  {
   "cell_type": "code",
<<<<<<< HEAD
   "execution_count": null,
=======
   "execution_count": 9,
>>>>>>> e94eb76373e74287e0f3401c0c27781d51003ecf
   "metadata": {},
   "outputs": [],
   "source": [
    "#handle datetime\n",
    "\n",
    "#plot numbers of monthly orders purchased"
   ]
  },
  {
<<<<<<< HEAD
   "cell_type": "markdown",
   "metadata": {},
=======
   "cell_type": "code",
   "execution_count": 10,
   "metadata": {},
   "outputs": [],
   "source": [
    "orders_df['year_delivery'] = orders_df.order_delivered_customer_date.dt.year\n",
    "orders_df['month_delivery'] = orders_df.order_delivered_customer_date.dt.month\n",
    "orders_values_df = orders_df.merge(right=data['olist_order_payments_dataset'], how='left')\n",
    "orders_values_df = orders_values_df.set_index('order_delivered_customer_date')\n",
    "orders_values_df = orders_values_df[orders_values_df.order_status=='delivered']\n",
    "monthly_orders_values_df = pd.DataFrame(orders_values_df.groupby(['year_delivery','month_delivery']).payment_value.sum())"
   ]
  },
  {
   "cell_type": "code",
   "execution_count": 11,
   "metadata": {},
   "outputs": [
    {
     "data": {
      "text/html": [
       "<div>\n",
       "<style scoped>\n",
       "    .dataframe tbody tr th:only-of-type {\n",
       "        vertical-align: middle;\n",
       "    }\n",
       "\n",
       "    .dataframe tbody tr th {\n",
       "        vertical-align: top;\n",
       "    }\n",
       "\n",
       "    .dataframe thead th {\n",
       "        text-align: right;\n",
       "    }\n",
       "</style>\n",
       "<table border=\"1\" class=\"dataframe\">\n",
       "  <thead>\n",
       "    <tr style=\"text-align: right;\">\n",
       "      <th></th>\n",
       "      <th></th>\n",
       "      <th>payment_value</th>\n",
       "    </tr>\n",
       "    <tr>\n",
       "      <th>year_delivery</th>\n",
       "      <th>month_delivery</th>\n",
       "      <th></th>\n",
       "    </tr>\n",
       "  </thead>\n",
       "  <tbody>\n",
       "    <tr>\n",
       "      <th rowspan=\"3\" valign=\"top\">2016.0</th>\n",
       "      <th>10.0</th>\n",
       "      <td>34438.41</td>\n",
       "    </tr>\n",
       "    <tr>\n",
       "      <th>11.0</th>\n",
       "      <td>11187.07</td>\n",
       "    </tr>\n",
       "    <tr>\n",
       "      <th>12.0</th>\n",
       "      <td>960.85</td>\n",
       "    </tr>\n",
       "    <tr>\n",
       "      <th rowspan=\"12\" valign=\"top\">2017.0</th>\n",
       "      <th>1.0</th>\n",
       "      <td>38708.63</td>\n",
       "    </tr>\n",
       "    <tr>\n",
       "      <th>2.0</th>\n",
       "      <td>228152.25</td>\n",
       "    </tr>\n",
       "    <tr>\n",
       "      <th>3.0</th>\n",
       "      <td>387275.32</td>\n",
       "    </tr>\n",
       "    <tr>\n",
       "      <th>4.0</th>\n",
       "      <td>307722.84</td>\n",
       "    </tr>\n",
       "    <tr>\n",
       "      <th>5.0</th>\n",
       "      <td>600917.76</td>\n",
       "    </tr>\n",
       "    <tr>\n",
       "      <th>6.0</th>\n",
       "      <td>502197.97</td>\n",
       "    </tr>\n",
       "    <tr>\n",
       "      <th>7.0</th>\n",
       "      <td>531271.71</td>\n",
       "    </tr>\n",
       "    <tr>\n",
       "      <th>8.0</th>\n",
       "      <td>627367.19</td>\n",
       "    </tr>\n",
       "    <tr>\n",
       "      <th>9.0</th>\n",
       "      <td>670205.77</td>\n",
       "    </tr>\n",
       "    <tr>\n",
       "      <th>10.0</th>\n",
       "      <td>759903.98</td>\n",
       "    </tr>\n",
       "    <tr>\n",
       "      <th>11.0</th>\n",
       "      <td>754862.96</td>\n",
       "    </tr>\n",
       "    <tr>\n",
       "      <th>12.0</th>\n",
       "      <td>1102232.62</td>\n",
       "    </tr>\n",
       "    <tr>\n",
       "      <th rowspan=\"10\" valign=\"top\">2018.0</th>\n",
       "      <th>1.0</th>\n",
       "      <td>993588.74</td>\n",
       "    </tr>\n",
       "    <tr>\n",
       "      <th>2.0</th>\n",
       "      <td>875514.19</td>\n",
       "    </tr>\n",
       "    <tr>\n",
       "      <th>3.0</th>\n",
       "      <td>1043754.61</td>\n",
       "    </tr>\n",
       "    <tr>\n",
       "      <th>4.0</th>\n",
       "      <td>1300791.67</td>\n",
       "    </tr>\n",
       "    <tr>\n",
       "      <th>5.0</th>\n",
       "      <td>1170501.14</td>\n",
       "    </tr>\n",
       "    <tr>\n",
       "      <th>6.0</th>\n",
       "      <td>1171086.67</td>\n",
       "    </tr>\n",
       "    <tr>\n",
       "      <th>7.0</th>\n",
       "      <td>948000.64</td>\n",
       "    </tr>\n",
       "    <tr>\n",
       "      <th>8.0</th>\n",
       "      <td>1347216.73</td>\n",
       "    </tr>\n",
       "    <tr>\n",
       "      <th>9.0</th>\n",
       "      <td>12875.18</td>\n",
       "    </tr>\n",
       "    <tr>\n",
       "      <th>10.0</th>\n",
       "      <td>347.95</td>\n",
       "    </tr>\n",
       "  </tbody>\n",
       "</table>\n",
       "</div>"
      ],
      "text/plain": [
       "                              payment_value\n",
       "year_delivery month_delivery               \n",
       "2016.0        10.0                 34438.41\n",
       "              11.0                 11187.07\n",
       "              12.0                   960.85\n",
       "2017.0        1.0                  38708.63\n",
       "              2.0                 228152.25\n",
       "              3.0                 387275.32\n",
       "              4.0                 307722.84\n",
       "              5.0                 600917.76\n",
       "              6.0                 502197.97\n",
       "              7.0                 531271.71\n",
       "              8.0                 627367.19\n",
       "              9.0                 670205.77\n",
       "              10.0                759903.98\n",
       "              11.0                754862.96\n",
       "              12.0               1102232.62\n",
       "2018.0        1.0                 993588.74\n",
       "              2.0                 875514.19\n",
       "              3.0                1043754.61\n",
       "              4.0                1300791.67\n",
       "              5.0                1170501.14\n",
       "              6.0                1171086.67\n",
       "              7.0                 948000.64\n",
       "              8.0                1347216.73\n",
       "              9.0                  12875.18\n",
       "              10.0                   347.95"
      ]
     },
     "execution_count": 11,
     "metadata": {},
     "output_type": "execute_result"
    }
   ],
   "source": [
    "monthly_orders_values_df"
   ]
  },
  {
   "cell_type": "code",
   "execution_count": 12,
   "metadata": {},
   "outputs": [
    {
     "data": {
      "image/png": "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\n",
      "text/plain": [
       "<Figure size 432x288 with 3 Axes>"
      ]
     },
     "metadata": {
      "needs_background": "light"
     },
     "output_type": "display_data"
    }
   ],
   "source": [
    "monthly_orders_values_df.unstack(level=0).plot(kind='bar', subplots=True);"
   ]
  },
  {
   "cell_type": "code",
   "execution_count": 13,
   "metadata": {},
   "outputs": [
    {
     "data": {
      "text/html": [
       "<div>\n",
       "<style scoped>\n",
       "    .dataframe tbody tr th:only-of-type {\n",
       "        vertical-align: middle;\n",
       "    }\n",
       "\n",
       "    .dataframe tbody tr th {\n",
       "        vertical-align: top;\n",
       "    }\n",
       "\n",
       "    .dataframe thead th {\n",
       "        text-align: right;\n",
       "    }\n",
       "</style>\n",
       "<table border=\"1\" class=\"dataframe\">\n",
       "  <thead>\n",
       "    <tr style=\"text-align: right;\">\n",
       "      <th></th>\n",
       "      <th>order_id</th>\n",
       "      <th>customer_id</th>\n",
       "      <th>order_status</th>\n",
       "      <th>order_purchase_timestamp</th>\n",
       "      <th>order_approved_at</th>\n",
       "      <th>order_delivered_carrier_date</th>\n",
       "      <th>order_estimated_delivery_date</th>\n",
       "      <th>year_delivery</th>\n",
       "      <th>month_delivery</th>\n",
       "      <th>payment_sequential</th>\n",
       "      <th>payment_type</th>\n",
       "      <th>payment_installments</th>\n",
       "      <th>payment_value</th>\n",
       "    </tr>\n",
       "    <tr>\n",
       "      <th>order_delivered_customer_date</th>\n",
       "      <th></th>\n",
       "      <th></th>\n",
       "      <th></th>\n",
       "      <th></th>\n",
       "      <th></th>\n",
       "      <th></th>\n",
       "      <th></th>\n",
       "      <th></th>\n",
       "      <th></th>\n",
       "      <th></th>\n",
       "      <th></th>\n",
       "      <th></th>\n",
       "      <th></th>\n",
       "    </tr>\n",
       "  </thead>\n",
       "  <tbody>\n",
       "    <tr>\n",
       "      <th>2017-10-10 21:25:13</th>\n",
       "      <td>e481f51cbdc54678b7cc49136f2d6af7</td>\n",
       "      <td>9ef432eb6251297304e76186b10a928d</td>\n",
       "      <td>delivered</td>\n",
       "      <td>2017-10-02 10:56:33</td>\n",
       "      <td>2017-10-02 11:07:15</td>\n",
       "      <td>2017-10-04 19:55:00</td>\n",
       "      <td>2017-10-18</td>\n",
       "      <td>2017.0</td>\n",
       "      <td>10.0</td>\n",
       "      <td>1.0</td>\n",
       "      <td>credit_card</td>\n",
       "      <td>1.0</td>\n",
       "      <td>18.12</td>\n",
       "    </tr>\n",
       "    <tr>\n",
       "      <th>2017-10-10 21:25:13</th>\n",
       "      <td>e481f51cbdc54678b7cc49136f2d6af7</td>\n",
       "      <td>9ef432eb6251297304e76186b10a928d</td>\n",
       "      <td>delivered</td>\n",
       "      <td>2017-10-02 10:56:33</td>\n",
       "      <td>2017-10-02 11:07:15</td>\n",
       "      <td>2017-10-04 19:55:00</td>\n",
       "      <td>2017-10-18</td>\n",
       "      <td>2017.0</td>\n",
       "      <td>10.0</td>\n",
       "      <td>3.0</td>\n",
       "      <td>voucher</td>\n",
       "      <td>1.0</td>\n",
       "      <td>2.00</td>\n",
       "    </tr>\n",
       "    <tr>\n",
       "      <th>2017-10-10 21:25:13</th>\n",
       "      <td>e481f51cbdc54678b7cc49136f2d6af7</td>\n",
       "      <td>9ef432eb6251297304e76186b10a928d</td>\n",
       "      <td>delivered</td>\n",
       "      <td>2017-10-02 10:56:33</td>\n",
       "      <td>2017-10-02 11:07:15</td>\n",
       "      <td>2017-10-04 19:55:00</td>\n",
       "      <td>2017-10-18</td>\n",
       "      <td>2017.0</td>\n",
       "      <td>10.0</td>\n",
       "      <td>2.0</td>\n",
       "      <td>voucher</td>\n",
       "      <td>1.0</td>\n",
       "      <td>18.59</td>\n",
       "    </tr>\n",
       "    <tr>\n",
       "      <th>2018-08-07 15:27:45</th>\n",
       "      <td>53cdb2fc8bc7dce0b6741e2150273451</td>\n",
       "      <td>b0830fb4747a6c6d20dea0b8c802d7ef</td>\n",
       "      <td>delivered</td>\n",
       "      <td>2018-07-24 20:41:37</td>\n",
       "      <td>2018-07-26 03:24:27</td>\n",
       "      <td>2018-07-26 14:31:00</td>\n",
       "      <td>2018-08-13</td>\n",
       "      <td>2018.0</td>\n",
       "      <td>8.0</td>\n",
       "      <td>1.0</td>\n",
       "      <td>boleto</td>\n",
       "      <td>1.0</td>\n",
       "      <td>141.46</td>\n",
       "    </tr>\n",
       "    <tr>\n",
       "      <th>2018-08-17 18:06:29</th>\n",
       "      <td>47770eb9100c2d0c44946d9cf07ec65d</td>\n",
       "      <td>41ce2a54c0b03bf3443c3d931a367089</td>\n",
       "      <td>delivered</td>\n",
       "      <td>2018-08-08 08:38:49</td>\n",
       "      <td>2018-08-08 08:55:23</td>\n",
       "      <td>2018-08-08 13:50:00</td>\n",
       "      <td>2018-09-04</td>\n",
       "      <td>2018.0</td>\n",
       "      <td>8.0</td>\n",
       "      <td>1.0</td>\n",
       "      <td>credit_card</td>\n",
       "      <td>3.0</td>\n",
       "      <td>179.12</td>\n",
       "    </tr>\n",
       "  </tbody>\n",
       "</table>\n",
       "</div>"
      ],
      "text/plain": [
       "                                                       order_id  \\\n",
       "order_delivered_customer_date                                     \n",
       "2017-10-10 21:25:13            e481f51cbdc54678b7cc49136f2d6af7   \n",
       "2017-10-10 21:25:13            e481f51cbdc54678b7cc49136f2d6af7   \n",
       "2017-10-10 21:25:13            e481f51cbdc54678b7cc49136f2d6af7   \n",
       "2018-08-07 15:27:45            53cdb2fc8bc7dce0b6741e2150273451   \n",
       "2018-08-17 18:06:29            47770eb9100c2d0c44946d9cf07ec65d   \n",
       "\n",
       "                                                    customer_id order_status  \\\n",
       "order_delivered_customer_date                                                  \n",
       "2017-10-10 21:25:13            9ef432eb6251297304e76186b10a928d    delivered   \n",
       "2017-10-10 21:25:13            9ef432eb6251297304e76186b10a928d    delivered   \n",
       "2017-10-10 21:25:13            9ef432eb6251297304e76186b10a928d    delivered   \n",
       "2018-08-07 15:27:45            b0830fb4747a6c6d20dea0b8c802d7ef    delivered   \n",
       "2018-08-17 18:06:29            41ce2a54c0b03bf3443c3d931a367089    delivered   \n",
       "\n",
       "                              order_purchase_timestamp   order_approved_at  \\\n",
       "order_delivered_customer_date                                                \n",
       "2017-10-10 21:25:13                2017-10-02 10:56:33 2017-10-02 11:07:15   \n",
       "2017-10-10 21:25:13                2017-10-02 10:56:33 2017-10-02 11:07:15   \n",
       "2017-10-10 21:25:13                2017-10-02 10:56:33 2017-10-02 11:07:15   \n",
       "2018-08-07 15:27:45                2018-07-24 20:41:37 2018-07-26 03:24:27   \n",
       "2018-08-17 18:06:29                2018-08-08 08:38:49 2018-08-08 08:55:23   \n",
       "\n",
       "                              order_delivered_carrier_date  \\\n",
       "order_delivered_customer_date                                \n",
       "2017-10-10 21:25:13                    2017-10-04 19:55:00   \n",
       "2017-10-10 21:25:13                    2017-10-04 19:55:00   \n",
       "2017-10-10 21:25:13                    2017-10-04 19:55:00   \n",
       "2018-08-07 15:27:45                    2018-07-26 14:31:00   \n",
       "2018-08-17 18:06:29                    2018-08-08 13:50:00   \n",
       "\n",
       "                              order_estimated_delivery_date  year_delivery  \\\n",
       "order_delivered_customer_date                                                \n",
       "2017-10-10 21:25:13                              2017-10-18         2017.0   \n",
       "2017-10-10 21:25:13                              2017-10-18         2017.0   \n",
       "2017-10-10 21:25:13                              2017-10-18         2017.0   \n",
       "2018-08-07 15:27:45                              2018-08-13         2018.0   \n",
       "2018-08-17 18:06:29                              2018-09-04         2018.0   \n",
       "\n",
       "                               month_delivery  payment_sequential  \\\n",
       "order_delivered_customer_date                                       \n",
       "2017-10-10 21:25:13                      10.0                 1.0   \n",
       "2017-10-10 21:25:13                      10.0                 3.0   \n",
       "2017-10-10 21:25:13                      10.0                 2.0   \n",
       "2018-08-07 15:27:45                       8.0                 1.0   \n",
       "2018-08-17 18:06:29                       8.0                 1.0   \n",
       "\n",
       "                              payment_type  payment_installments  \\\n",
       "order_delivered_customer_date                                      \n",
       "2017-10-10 21:25:13            credit_card                   1.0   \n",
       "2017-10-10 21:25:13                voucher                   1.0   \n",
       "2017-10-10 21:25:13                voucher                   1.0   \n",
       "2018-08-07 15:27:45                 boleto                   1.0   \n",
       "2018-08-17 18:06:29            credit_card                   3.0   \n",
       "\n",
       "                               payment_value  \n",
       "order_delivered_customer_date                 \n",
       "2017-10-10 21:25:13                    18.12  \n",
       "2017-10-10 21:25:13                     2.00  \n",
       "2017-10-10 21:25:13                    18.59  \n",
       "2018-08-07 15:27:45                   141.46  \n",
       "2018-08-17 18:06:29                   179.12  "
      ]
     },
     "execution_count": 13,
     "metadata": {},
     "output_type": "execute_result"
    }
   ],
   "source": [
    "orders_values_df.head()"
   ]
  },
  {
   "cell_type": "code",
   "execution_count": 14,
   "metadata": {},
   "outputs": [
    {
     "data": {
      "text/plain": [
       "<matplotlib.axes._subplots.AxesSubplot at 0x1250583d0>"
      ]
     },
     "execution_count": 14,
     "metadata": {},
     "output_type": "execute_result"
    },
    {
     "data": {
      "image/png": "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\n",
      "text/plain": [
       "<Figure size 432x288 with 1 Axes>"
      ]
     },
     "metadata": {
      "needs_background": "light"
     },
     "output_type": "display_data"
    }
   ],
>>>>>>> e94eb76373e74287e0f3401c0c27781d51003ecf
   "source": [
    "#### Customer Satisfaction"
   ]
  },
  {
   "cell_type": "code",
<<<<<<< HEAD
   "execution_count": null,
=======
   "execution_count": 15,
   "metadata": {},
   "outputs": [
    {
     "data": {
      "text/plain": [
       "<matplotlib.axes._subplots.AxesSubplot at 0x125c066d0>"
      ]
     },
     "execution_count": 15,
     "metadata": {},
     "output_type": "execute_result"
    },
    {
     "data": {
      "image/png": "iVBORw0KGgoAAAANSUhEUgAAAZgAAAEVCAYAAADdFfNTAAAABHNCSVQICAgIfAhkiAAAAAlwSFlzAAALEgAACxIB0t1+/AAAADh0RVh0U29mdHdhcmUAbWF0cGxvdGxpYiB2ZXJzaW9uMy4xLjMsIGh0dHA6Ly9tYXRwbG90bGliLm9yZy+AADFEAAAgAElEQVR4nO3deXyU1b348c83yWSHTAJhX4IsCriwhM29rthaUVt3Bb1W2lu7WHtvte3ttdfWX23v7WbVtu5LXeteBRUVC1WBsO+SQAIkEAgkJEDI/v39MScwxMk+k5lJvu/XK6/MnOc8zzkTHvLNWZ5zRFUxxhhjgi0m3BUwxhjTPVmAMcYYExIWYIwxxoSEBRhjjDEhYQHGGGNMSFiAMcYYExKtBhgReUJE9orI+gDHfigiKiJ93XsRkQdEJE9E1orIJL+8c0Qk133N8UufLCLr3DkPiIi49AwRWeDyLxCR9NbKMMYYEzna0oJ5CpjZNFFEhgIXATv8ki8BRruvucCfXd4M4B5gGjAVuKcxYLg8t/md11jW3cCHqjoa+NC9b7YMY4wxkSWutQyqukhEsgIc+j3wI+BNv7RZwDPqe3pziYh4RWQgcC6wQFVLAURkATBTRD4GeqvqEpf+DHA5MN9d61x33aeBj4G7mitDVXe39Dn69u2rWVmBPoYxxpjmrFixYp+qZnbk3FYDTCAiMgsoUtU1rker0WBgp9/7QpfWUnphgHSA/n5Boxjo30oZLQaYrKwsli9f3vIHM8YYcxwR2d7Rc9sdYEQkGfgJvu6xLqGqKiLtXtNGRObi60Zj2LBhQa+XMcaY5nVkFtlIYASwRkQKgCHAShEZABQBQ/3yDnFpLaUPCZAOsMd1r+G+73XpzV3rC1T1EVXNVtXszMwOtfCMMcZ0ULsDjKquU9V+qpqlqln4uqgmqWox8BYw2830mg6Uu26u94CLRCTdDe5fBLznjlWIyHQ3e2w2x8Z03gIaZ5vNaZIeqAxjjDERpNUuMhF5Ad9ge18RKQTuUdXHm8k+D/gykAdUArcAqGqpiPwCyHH57m0c8Ae+jW+mWhK+wf35Lv1+4GURuRXYDlzdUhnGGGMii/SU5fqzs7PVBvmNMaZ9RGSFqmZ35Fx7kt8YY0xIWIAxxhgTEhZgjDEmSvz2/c/51rMrwl2NNuvQg5bGGGO63j/W7OJQdX24q9FmFmCMMSYK7D1YRcH+SjyxgqrSZBWViGRdZMYYEwVy8ssAqK1XKmuioxVjAcYYY6JATkHp0dcHjtSGsSZtZwHGGGOiwLL8UmJjfN1iByprwlybtrEAY4zpNlSV8sro+Ou+PSqqatlUXMHUrAwADkTJZ7QAY4zpNh7/Vz5T7vuAVTvKwl2VoFqxvQxVuHCcb9cSCzDGGNOFVJXnlu6gpr6B7724ioqq6Pgl3BY5+aXExQhfOqkfAAeOWBeZMcZ0mZU7DpC/7zDXTxvGrgNV/PT19XSXtRZzCkoZPziNgWmJgLVgjDGmS726spBETww/+fJY7rxwDP9Ys4u/ryhs/cQIV1Vbz5qd5UzNSifRE0uSJ9YG+Y0xpqtU1dbz9ppdzBw/gNSEOL51zkhmnNCHe97cQN7eQ+GuXqesLSynpr6BKW6A35vssRaMMcZ0lQ837aWiqo6vTfZtkBsbI/zh2gkkxcfy3RdWUVUbHQ8mBtL4/EtjgElL8thzMMYY01VeXVnIgN6JnD6y79G0/r0T+b+rTmXT7grun785jLXrnJyCUkb3SyU9JR7wtWCiZSq2BRhjTFQrOVjNP7eUcPnEwUcfRGx03kn9+bczRvDUpwV8sHFPmGrYcfUNyoqCMqaMyDialp4cT5mNwRhjTOi9ubqI+gbl65MHBzx+1yUnMn5Qb/7zlTUUl1d1ce06Z3NxBQer644+YAluDMa6yIwxJvReXVnEaUPSGNWvV8DjCXGx/Om6iVTXNXDHS6uob4ieqcs5+W78xa8Fk5YUT3llbVRMwbYAY4yJWht3VbBpdwVXThrSYr4TMlO5d9bJLNlWysML87qodp2XU1DGYG8Sg71JR9O8yR5q6hs4EgUTFyzAGGOi1msrC/HECpedNqjVvF+bNJjLJwziDx/mstxvZeJIpaosKyhlSlb6cenpyR4AyqJgoL/VACMiT4jIXhFZ75f2vyKyWUTWisjrIuL1O/ZjEckTkc9F5GK/9JkuLU9E7vZLHyEiS136SyIS79IT3Ps8dzyrtTKMMT1HXX0Db6zexXkn9Ts6w6olIsIvLj+ZIelJfP/F1RE/E2v7/kpKDlYf1z0Gvi4yiI4VldvSgnkKmNkkbQFwsqqeCmwBfgwgIuOAa4Hx7pyHRSRWRGKBh4BLgHHAdS4vwK+B36vqKKAMuNWl3wqUufTfu3zNltHOz22MiXKLckvYd6i61e4xf70SPTxw7UT2VFRx92trI3ocY5lrZfkP8IOviwyI+AAJbQgwqroIKG2S9r6q1rm3S4DGf+FZwIuqWq2q+UAeMNV95anqNlWtAV4EZolvz8/zgFfc+U8Dl/td62n3+hXgfJe/uTKMMT3IqyuLSE/28KUT+7XrvNOGevnRzBOZv76Y55ftCFHtOi8nv5T0ZA+j+qUel94YYKJhJlkwxmD+DZjvXg8GdvodK3RpzaX3AQ74BavG9OOu5Y6Xu/zNXesLRGSuiCwXkeUlJSUd+nDGmMhTXlnLgo17mDVhMPFx7f819o0zT+DsMZnc+4+NfF58MAQ17LycglKyszLw/V19jPdoF1k3DzAi8lOgDnguONUJLlV9RFWzVTU7MzMz3NUxxgTJ2+t2UVPXwJWTAj/70pqYGOG3V51Gr0QP331hJUcibI/7vQerKNhf+YXuMTjWgomGhy07HGBE5GbgUuAGPdaRWQQM9cs2xKU1l74f8IpIXJP0467ljqe5/M1dyxjTQ7y2sojR/VI5ZXBah6+R2SuB3119Glv2HOKX72wMYu06Lyfft2FadpMZZACJnlgSPTGUR0EXWVzrWb5IRGYCPwLOUdVKv0NvAc+LyO+AQcBoYBkgwGgRGYEvGFwLXK+qKiILga/jG5eZA7zpd605wGfu+Ecuf3NlGGN6gPx9h1mxvYy7LznpC91H7XX2mEy+ec4J/PWf25g6IoMzRvWlQRUUGhQaVFGgwT2c2aBKg/qmEDd+75OaQEYbZrG1R05BKUmeWE5uJoB6k+KjYhZZqwFGRF4AzgX6ikghcA++WWMJwAL3D7xEVb+lqhtE5GVgI76us9tVtd5d5zvAe0As8ISqbnBF3AW8KCK/BFYBj7v0x4FnRSQP3ySDawFaKsMY0/29trKQGIHLJ3Sse6yp/7joRJZsK+X7L67u0PnpyR7+ddd5pCR06O/1gJbllzJxmBdPbOBOpmhZsr/Vn4iqXhcg+fEAaY357wPuC5A+D5gXIH0bAWaBqWoVcFV7yjDGdG8NDcprK4s4Y1RfBrjdHTvLExvDkzdPYd663agqIoIIxIgguO/ie44mRjh6DHwLbf7ynU28vqqIG6cPD0p9Kqpq2VRcwffOG91snm4TYIwxJlIszS+l6MARfjTzxKBeNyMlvkMBQlV5Y3URz3xWwA3ThnW6yw5gxfYyVGHqiC8O8DfyJsWzbV/kb6RmS8UYY6LGqysLSU2I46JxA8JdFcDXqpkzI4stew7x2db9QblmTn4pcTHCxGHeZvNESwvGAowxJipU1tQxf91uvnzKAJLiI2fxjq+eNoiMlHie+rQgKNfLKShl/OA0kuOb72BKc0v2R/JKBGABxhgTJd7bUMzhmnq+1o6lYbpCoieWa6cM5YNNeygsq2z9hBZU1dazZmc5UwNMT/aXnhxPTV3kr6hsAcYYExVeXVHEkPSko3vTR5Ibpw9HRHh2yfZOXWddUTk19Q2tfkZvklsuJsK7ySzAGGMi3u7yI3yydR9XThpCTEznB9KDbZA3iYvG9eelnJ1UdaJVsaxxg7HWAkyyBRhjjAmK11cVoerb0yVSzTk9iwOVtby5uuMLi+QUlDK6X2qr2w8cXbL/SGQ/bGkBxpgeJtIHhptSVV5dUUj28HSG90kJd3WaNW1EBicN6MVTn27v0M+4vkFZUVD2hf1fArEWjDEm4mwuriD7lx/w9tpd4a5Km60tLGdryWG+NjmyBvebEhHmnJ7Fpt0V5BSUtfv8zcUVHKyuC7jAZVPpydGxorIFGGN6kPnritl/uIY7X1pztL8/0r26spD4uBi+curAcFelVZdPGExakoenOzBlOadx/KU9LRjrIjPGRIrFuSWc2L8XQ9KTuO2Z5Wwtieynwavr6nlrzS4uGtef3omecFenVUnxsVwzZSjvbihmd/mRdp2bU1DGYG8Sg71JreZN9MSSEBcT8btaWoAxpocoP1LL6p0HuHh8f566ZSpxMcLNTy6j5GB1uKvWrIWbSzhQWRvx3WP+bpo+nAZV/taOKcuqyrKCUqa08vyLv2h4mt8CjDE9xGdb99GgcNaYTIb1Sebxm6dQcrCabzydQ2VNXesXCINXVxaS2SuBs0b1DXdV2mxoRjLnn9SfF5a1fcry9v2VlBysblP3WKP05PiI33TMAowxPcSi3H2kJsQxYahvjasJQ7386bpJrCsq53svrKa+IbJml+0/VM3CzXu5fMIg4ppZtj5S3XJGFqWHa3h77e425V9W4Bt/acsAf6O0JN9yMZEsuv7VjDEdoqos2lLCjJF9jttj5MJx/fn5ZeP5YNMe/ucfGyJqCvM/1uyirkGjqnus0ekj+zC6XypPf1rQpp9pTn4p6ckeRvVLbXMZ3mSPjcEYY8Jv+/5KCsuOcPboL3Y1zZ6RxdyzT+CZz7bz2OL8MNQusFdXFjF+UG9OGtA73FVpNxFh9ulZrCsqZ+WOA63mzykoJTsro13L/XuT4m0WmTEm/BbnlgBw1ujMgMfvnnkSXzllIPfN28Q7bezWCaUtew6yrqicKyNsYcv2uHLiYHolxrU6ZXnvwSoK9le2q3sMwJvioawysldUtgBjTA+wKHcfQzOSGN4nOeDxmBjht1efRvbwdH7w8mpyCsL7jMzDC/OIj4th1oRBYa1HZ6QkxHHV5KHMW7ebvRVVzebLyfc9lNmeAX7wtWBq6hqoqm3oVD1DyQKMMd1cbX0Dn23dz1mjM1vsgkn0xPLo7GyGeMP7jMzqnQd4Y/UubjtrBH1TE8JSh2CZPWM49ao8t3RHs3lyCkpJ8sQyflD7ugKj4WFLCzDGdHOrdx7gUHVdwPGXptJT4nnqlqnESniekVFVfvH2RvqmJvDv547q0rJDIatvCueOyeT5ZTuoqQvc0liWX8qk4d7jJl+0RTQs2d/qJxKRJ0Rkr4is90vLEJEFIpLrvqe7dBGRB0QkT0TWisgkv3PmuPy5IjLHL32yiKxz5zwg7k+sjpRhjPmiRVtKiBGYMbJtz5KE8xmZd9btZsX2Mv7jojGkJjS/o2M0mXN6FiUHq5m//otjWxVVtWwqriB7ePv3uPG69cgi+VmYtoTMp4CZTdLuBj5U1dHAh+49wCXAaPc1F/gz+IIFcA8wDZgK3NMYMFye2/zOm9mRMowxgS3K3ceEoV7Sktq+1Eo4npGpqq3n/vmbOWlAL67KHhry8rrK2aMzGdE3JeCWyiu3l6EKU9s5/gLHusgieapyqwFGVRcBTUf8ZgFPu9dPA5f7pT+jPksAr4gMBC4GFqhqqaqWAQuAme5Yb1Vdor6pEM80uVZ7yjDGNHGgsoa1hQeanT3WkgvH9eeer3bdMzJPfJJPYdkRfnbpOGIjcFOxjoqJEWbPGM6qHQdYW3j8lOWcglLiYoSJw7ztvu6xMZgoDjDN6K+qje29YqC/ez0Y2OmXr9CltZReGCC9I2UYY5r4JG8/qnD2mPYHGPB179x21oiQPyNTcrCahxdu5YKx/TgjipaFaauvTx5CSnzsF1oxOflljB+cRnJ8+7sDvUmRv2R/pwf5XcsjpH/adLQMEZkrIstFZHlJSUkIamZMZFucW0KvxDhOG5LW4Wv8+JKxfPmUAdw3bxPvbygOYu2O+d2CLVTV1vPjL48NyfXDrVeih69NHsLba3az75Bv4kR1XT2rCw8wtR0LXPpL9MQQHxfDgSgfgwlkT2O3lPu+16UXAf6dp0NcWkvpQwKkd6SML1DVR1Q1W1WzMzM79hecMdFKVVmcu48zRvbt1FpeMTHC766ewGlD0rjz5TXk7T0YxFr6Ntp6KWcHN04fzsjMti+VEm1mz8iipr6BF9yU5bWF5dTUNTClnQ9YNhIR0iN8ReWO3nVvAY0zweYAb/qlz3YzvaYD5a6b6z3gIhFJd4P7FwHvuWMVIjLdzR6b3eRa7SnDGONn277DFB04wlljOt/llOiJ5S83TSbRE8Ntz6ygPEj9/qrKfe9soleihzsuGB2Ua0aqUf1SOWt0X/62dDu19Q1HN3zraICByF8upi3TlF8APgNOFJFCEbkVuB+4UERygQvce4B5wDYgD3gU+DaAqpYCvwBy3Ne9Lg2X5zF3zlZgvktvVxnGmOMt3uLrFj67AwP8gQxMS+LPN05mZ2kld7y4KigzyxZ+vpfFufv4/vmjj0677c5uPj2LPRXVvLehmJyCUkb3SyU9peOfOy3CWzCtjiyp6nXNHDo/QF4Fbm/mOk8ATwRIXw6cHCB9f3vLMMYcszh3H1l9khmaEXh5mI6YkpXBzy8bz3+9sZ7fLfic/7z4pA5fq7a+gfve2cSIvincOH140OoYyc49sR/DMpJ58pMCthQf5KudXArHm+RhR2llkGoXfPYkvzHdUE1dA59t29+h6cmtuWHaMK6bOpSHFm7t1MKYzy/dwdaSw/zky2OJj+sZv4pi3ZTlFdvLOFhd1+4FLpuK9E3Hesa/qjE9zModZVTW1HNWG5aHaS8R4eeXjWfSMC//8fc1bNpd0e5rlFfW8vsPtjDjhD5cMLZf0OsYya7KHkqSJxZo/wKXTUX6tskWYIzphhbnlhAbI8wY2Sck10+Ii+UvN06mV2Icc59d3u6psn/6KJfyI7X816Vj27UHSneQluThxunDGDuwN4O9SZ27VrKH6rqGNm/N3NUswBjTDS3O3cekYV56JbZ9eZj26tc7kb/cNJk95dV894VV1NW3bdn4/H2HefqzAq6ePJTxgzr+fE40+8mXxzLve2d2+jqR/rClBRhjupnSwzWsKyoPyfhLU5OGpfPLy09mce4+fvPe520651fzNuGJjeGHF40Jce0il4gEpeWW7paLidRxGAswxnQzn+TtQ5WQjL8EcvWUocyeMZxHFm3jzdUBn3k+6rOt+3l/4x6+fe5I+vVO7JL6dWdpyZG9ZL8FGGO6mcW5JfROjOPUIe1fQLGjfnbpOKaOyOBHr6xlfVF5wDz1Dcov39nIoLREvnHWCV1Wt+6ssYusPEIftrQAY0w3oqos2rKPM0f37dIViT2xMTx8wyT6pMTzzWdXsP/QFzcqe21lIRt2VXDXJSeR6GZRmc7xWgvGGNNV8vYeoriiqkvGX5rqm5rAX2/KZt+ham5/fiW1foP+h6vr+N/3PmfCUC+Xnda5hwvNMd6jYzAWYIwxIbYodx8AZ4ZpyftThqRx/9dOYcm2Uu57Z9PR9L/+cyt7D1bzsx44LTmUkjyxvhWVI7SLrHvsSWqMAXzjLyf0TQnq8jDtdcXEIWwoquCxf+UzflBvzhjVl0cWb+PSUwcyuQNbA5vmiQjeJE/E7mppAcaYbqK6rp4l2/ZzTQRsN3z3JSexqbiCn76xnglDvTQo3DWz4+uWmeZF8tP81kVmTDexoqCMqtqGsIy/NBUXG8OD102iX68EluWXcuuZI8LaqurOvEmRux6ZBRhjuolFufvwxIZueZj2Sk+J54mbpzB7xnBu/9KocFen2/Ime4K2P0+wWYAxpptYnFvCpGHppCRETs/3mP69uHfWyaRGUJ26G+siM8aE1L5D1WzYVcHZY8LfPWa6ljc5cne1tABjTDfwSZ5venJXLQ9jIkdakoeq2shcUdkCjDHdwKIt+0hP9vTY1Yl7svTkyF1R2QKMMVFOVVmcW8IZo7p2eRgTGY4uFxOB3WQWYIyJclv2HGLvwWrOjoDpyabreZMidz2yTgUYEfmBiGwQkfUi8oKIJIrICBFZKiJ5IvKSiMS7vAnufZ47nuV3nR+79M9F5GK/9JkuLU9E7vZLD1iGMT3R4twSAM608ZceKZKX7O9wgBGRwcD3gGxVPRmIBa4Ffg38XlVHAWXAre6UW4Eyl/57lw8RGefOGw/MBB4WkVgRiQUeAi4BxgHXuby0UIYxPc6i3H2M6pfKoE5uv2ui07ExmO7XRRYHJIlIHJAM7AbOA15xx58GLnevZ7n3uOPni2/Vu1nAi6parar5QB4w1X3lqeo2Va0BXgRmuXOaK8OYHqWqtp6l2/bb7LEe7NgYTDdqwahqEfB/wA58gaUcWAEcUNU6l60QGOxeDwZ2unPrXP4+/ulNzmkuvU8LZRjTo+QUlFJd12DjLz1YkieW+NiYbtdFlo6v9TECGASk4OviihgiMldElovI8pKSknBXx5igW+yWh5l2gq1S3FOJCGnJnojc1bIzXWQXAPmqWqKqtcBrwBmA13WZAQwBGjfpLgKGArjjacB+//Qm5zSXvr+FMo6jqo+oaraqZmdm2l94pvtZtKWE7OEZJMfbUiw9mTfJQ9nhbtSCwdc1Nl1Ekt24yPnARmAh8HWXZw7wpnv9lnuPO/6RqqpLv9bNMhsBjAaWATnAaDdjLB7fRIC33DnNlWFMj7G3oorNxQc5a4yNv/R06RG6XExnxmCW4htoXwmsc9d6BLgLuFNE8vCNlzzuTnkc6OPS7wTudtfZALyMLzi9C9yuqvVujOU7wHvAJuBll5cWyjCmx/iXWx7Gxl9MWoQueNmpdrWq3gPc0yR5G74ZYE3zVgFXNXOd+4D7AqTPA+YFSA9YhjE9yeLcfWSkxDNuYO9wV8WEmTfJw/oInEVmHbfGhNHWkkP87I31VNXWk5roITUhltSEOFIT3OtE3+uUhFh6JcaREh/n0uJYnLuPM0f1JcaWh+nxvMmeiNx0zAKMMWGycVcFNz2+FAXGDexN+ZFadh04wqGqOg5X13Gopg7Vlq9hz78Y8C3Z37iicqInNtzVOcoCjDFhsGJ7Gbc8uYyUhDj+9o1pjMxM/UKehgalsraew9V1HGwMOo1fVXXUNyiXTRgUhtqbSNP4sGX5kVoLMMb0ZJ/k7eO2Z5bTr1cCf/vGNIakB96rPiZGXHdZHP1tmMW0wJt0bMn+/r0Tw1ybYyzAGNOFFmzcw+3PreSEzBSeuXUq/XpFzi8DE72OLhcTYeMwFmCM6SJvri7izpfXcPLgNJ6+ZQreZFsE3ARHY4Api7CpyhZgjOkCzy3dzn+9sZ5pIzJ4bM4UUhPsv54JnsY/ViJtuRi7y40Jsb/+cyu/mr+Z807qx8M3TIqoQVjTPUTqpmMWYIwJEVXlt+9v4cGFeVx66kB+f80EPLG2iawJvuT4WDyxEnFL9luAMSYEGhqUe9/eyFOfFnDtlKHcd8UpxNoDkSZERIS0pHgb5Demu6urb+Du19bxyopCvnHmCH76lbH41oM1JnTSI3A9MgswxgRRdV09d7y4mvnri/nBBWP43vmjLLiYLuG1AGNM93Wkpp5v/m0Fi7aU8F9fGcs3zjoh3FUyPUhaUjxFB46EuxrHsRFHY4Jg9c4D3Pj4UhbnlvDrr51iwcV0OV8LxsZgjOkWGhqUDzbt4dHF28gpKKNXYhx/um4il55q64OZrmdjMMZ0A0dq6nl1ZSGP/yuf/H2HGexN4meXjuOaKUPtAUoTNt7keI7U1kfUisr2v8GYNio5WM2znxXw7JLtlFXWctqQNB68fiIzxw8gzp5vMWGW5h62rIigFZUtwBjTiry9B3lscT6vrSqitr6B80/qz21njWDqiAybIWYihv96ZP0iZEVlCzDGBKCqLNlWyqOLt/HR5r0kxMXw9clDuPXMEQH3bjEm3NKTG5fsj5yBfgswxjQxf91uHvo4j/VFFfRJiecHF4zhxunD6JOaEO6qGdOsxi6ySFouxgKMMX4e/jiP37z7OSdkpvCrK0/hiomDI6Y/25iWHN3VMoJmknVqZFJEvCLyiohsFpFNIjJDRDJEZIGI5Lrv6S6viMgDIpInImtFZJLfdea4/LkiMscvfbKIrHPnPCCuw7u5MozpjL/8cyu/efdzZk0YxIIfnMN1U4dZcDFRo3HJ/gMRtGR/Z6e+/BF4V1VPAk4DNgF3Ax+q6mjgQ/ce4BJgtPuaC/wZfMECuAeYBkwF7vELGH8GbvM7b6ZLb64MYzrk0UXbuH/+Zr562iB+e9VptjCliTopbkXlSNp0rMMBRkTSgLOBxwFUtUZVDwCzgKddtqeBy93rWcAz6rME8IrIQOBiYIGqlqpqGbAAmOmO9VbVJaqqwDNNrhWoDBPBPt26j7y9h8JdjS94bPE27pu3ia+cOpDfX32aTTk2UenYisrdIMAAI4AS4EkRWSUij4lICtBfVXe7PMVAf/d6MLDT7/xCl9ZSemGAdFoo4zgiMldElovI8pKSko58RhMkh6rruPnJHK58+BM27CoPd3WOevKTfH75ziYuOXkAf7hmggUXE9W8yZ6I2tWyM/+b4oBJwJ9VdSJwmCZdVa7loZ0oo1UtlaGqj6hqtqpmZ2ZmhrIaphUfbd5LTV0DCtz0+DJy9xwMd5V45rMC/ucfG7l4fH8euG6ibQZmop43KbKWi+nM/6hCoFBVl7r3r+ALOHtc9xbu+153vAgY6nf+EJfWUvqQAOm0UIaJUO+u303f1ATeuP0MYmOE6x9bSv6+w2Grz7NLtvPfb27gwnH9+dN1kyy4mG7Bm+zpHmMwqloM7BSRE13S+cBG4C2gcSbYHOBN9/otYLabTTYdKHfdXO8BF4lIuhvcvwh4zx2rEJHpbvbY7CbXClSGiUBHaupZuLmEi8f3Z2RmKs9/Yxr1DcoNjy5hZ2lll9fn+aU7+Nkb67lgbD8eun4S8XEWXEz34E2OpzyCHrTs7P+s7wLPichaYALw/4D7gQtFJBe4wL0HmAdsA/KAR4FvA6hqKfALIMd93evScHkec+dsBea79Ns/y2QAAB45SURBVObKMBHon1tKOFJbzyUnDwRgdP9ePHvrVA5V13HDY0spLq/qsrq8uGwHP3l9Heed1I+HbrDgYroXb5Kn+zxoqaqrgewAh84PkFeB25u5zhPAEwHSlwMnB0jfH6gME5neXb8bb7KHaSdkHE0bPyiNZ26dxo2PLeX6x5bw0twZZPYK7ZPyLy/fyY9fX8c5YzJ5+IZJJMTZMy6me/Eme6isqae6rj4i7m/7882EVHVdPR9u2suFY/t/YZxjwlAvT9w8hd0Hqrjp8aWUHQ5d0/6VFYXc9epazhzVl7/eNNkeoDTdUpp72DJSnua3AGNC6tO8/RysruOSUwYEPD51RAaPzs5m277DzH5iGRVVwf+P8fqqQv7zlTWcOaovj87OtuBiuq305Mhaj8wCjAmp+et30yshjjNG9W02z5mj+/KXGyexubiCW57M4XB1XdDKf3N1ET98eQ0zTujDIzdZcDHdmzepcUVlCzCmm6urb2DBxj2cN7Zfq/3B553UnweuncjqnQe49ekcqmrrO1V2Q4PyyopCfvDSaqaOyODxOVNIirfgYrq3xgUvI2XJfltN2YTM0vxSyiprueTkwN1jTV1yykB+W9fAD15ezTefXcEjsye3a6DySE09n+TtY8HGPXy4eS/7DlUzdUQGT9xswcX0DEeX7I+QFowFGBMy89fvJskTyzlj+rX5nMsnDqa6rp67Xl3Hd55fxcM3tPwQZMnBaj7avIcFG/fyr7wSqmob6JUQxzknZnLhuP5cPH6AdYuZHiM9JbJWVLYAY0KioUF5b8Mezj0xs92th2umDKOqtoF73trAD15azR+vnXh0dWNVZWvJId7fuIcPNu5h1c4DqMJgbxLXThnGBWP7M3VEhj3fYnqklPhY4mLEWjCme1uxo4ySg9XMbGP3WFNzTs+iqraeX83fTEJcLFdnD2HBxj18sGkPBft9T/+fOiSNH1wwhgvG9mfswF647YKM6bFEBG9y5DxsaQHGhMT8dcXEx8Zw3klt7x5r6pvnjKSqtoHff7CFV1cWEh8bw+mj+vCNs07g/LH9GJiWFMQaG9M9pCV5IuY5GAswJuhUlfc2FHPW6L70SvR06lrfO38Uw/okkRAXy9ljMklNsFvWmJakJ8dTZrPITHe1trCcogNHuOOC0Z2+lohwxcQhrWc0xgC+qcq7DnTd+n4tsZFQE3Tz1xcTFyNcOC7gPnDGmBBKS4qnPELGYCzAmKBSVd5dv5sZI/vgdesiGWO6jjfZEzEPWlqAMUG1ufggBfsrOzx7zBjTOd4kD4dr6qmpawh3VSzAmOCav74YEbhonAUYY8LBG0EPW1qAMUH17vrdTMnKCPneLsaYwLxuuZhImKpsAcYEzdaSQ2zZc6jNa48ZY4LPG0FL9luAMUHz7vpiABt/MSaMGpfsD+UGfm1lAcYEzfz1u5kw1GtP2BsTRtaCMd3OztJK1hdVWPeYMWHWGGC6xRiMiMSKyCoRedu9HyEiS0UkT0ReEpF4l57g3ue541l+1/ixS/9cRC72S5/p0vJE5G6/9IBlmPBp7B675OSBYa6JMT1bakIcsTHSbWaRfR/Y5Pf+18DvVXUUUAbc6tJvBcpc+u9dPkRkHHAtMB6YCTzsglYs8BBwCTAOuM7lbakMEybz1+9m3MDeDOuTHO6qGNOjiQjeJA9l0d6CEZEhwFeAx9x7Ac4DXnFZngYud69nufe44+e7/LOAF1W1WlXzgTxgqvvKU9VtqloDvAjMaqUMEwbF5VWs3HHAuseMiRDe5MhYUbmzLZg/AD8CGh8Z7QMcUNU6974QGOxeDwZ2Arjj5S7/0fQm5zSX3lIZJgze2+C6x06xAGNMJPAmx0d3F5mIXArsVdUVQaxPUInIXBFZLiLLS0pKwl2diFNdV099g3b6OvPX72ZUv1RG9esVhFoZYzrLm+SJiF0tO9OCOQO4TEQK8HVfnQf8EfCKSOM2AEOAIve6CBgK4I6nAfv905uc01z6/hbKOI6qPqKq2aqanZmZ2fFP2g3V1jdw+UOfcvEfFrF9/+EOX2f/oWqW5Zda95gxESQtOcoDjKr+WFWHqGoWvkH6j1T1BmAh8HWXbQ7wpnv9lnuPO/6RqqpLv9bNMhsBjAaWATnAaDdjLN6V8ZY7p7kyTBs9+Uk+m3ZXsOvAEWY99AlLtu3v0HXe37iHBrWHK42JJN6k+IhYUTkUz8HcBdwpInn4xksed+mPA31c+p3A3QCqugF4GdgIvAvcrqr1bozlO8B7+GapvezytlSGaYM9FVX88YNczjupH/O+dxZ9UuK56fGlvJSzo93Xmr++mGEZyYwb2DsENTXGdER6cmSsqByUHS1V9WPgY/d6G74ZYE3zVAFXNXP+fcB9AdLnAfMCpAcsw7TNfe9sorZBueer4xjeJ4XXvn0G33l+JXe9uo68vYe4+5KxxMZIq9cpr6zl07x93HrmCHyT+4wxkeDow5ZHasO68Kw9yd/DLNm2n7fW7OJbZ5/A8D4pAKQleXjy5incfHoWjy7OZ+4zyzlUXdfKleCDTXuoa1DrHjMmwqS5zf7KwzyTzAJMD1Jb38A9b25gsDeJfz931HHH4mJj+Pll4/nF5Sfz8ZYSvvbwp+wsrWzxevPXFzMwLZHThnhDWW1jTDs1Ltkf7octLcD0IM98tp3P9xzkv786jqT42IB5bpo+nKdvmcru8iNc/tAnLC8oDZjvUHUdi3JLuHj8AGLa0J1mjOk66a4FE+6ZZBZgeoi9B6v4w4ItnDMmk4vG9W8x75mj+/L67WfQO8nD9Y8u5bWVhV/Is3DzXmrqGmx6sjER6OiKymGeSWYBpoe4f95mqusa+Pll49s0ID8yM5XXv306k4enc+fLa/jNu5tp8Hso8931xfRNjSc7KyOU1TbGdECa3yB/OFmA6QFyCkp5bVURt509ghF9U9p8njc5nmduncp1U4fx8Mdb+ffnVlBZU0dVbT0LP9/LheMGtGm2mTGma/VyKyqXhbkFE5RpyiZy1dU38LM31jMoLZHbvzSq9ROa8MTG8P+uOJnR/VL55Tsb+fqfP+OaKUOprKm37jFjIlTjiso2BmNC6m9LtrO5+CA/u3QcyfEd+3tCRPi3M0fw+M1T2FFayT1vbSAtycOMkX2CXFtjTLCkJXvCvqulBZhubN+han67YAtnje4blGdVvnRiP1779umMzEzh6uwheGLt9jEmUnmTwr9kv3WRdWO/nr+Zqtr6Ng/st8WY/r348Ifn4lsSzhgTqbzJ8eypqAprHexP0G5qxfYy/r6ikH87cwQjM1ODfn1bGsaYyOaNgBWVLcB0Q/UNyj1vrWdA70S+d97ocFfHGBMG3qR4m6Zsgu/5ZTtYX1TBT78ylpQE6wU1pifyJns4VF1HbX34VlS2ANPNlB6u4f/e+5zTR/bh0lMHhrs6xpgw8UbAw5YWYLqZ37y7mcPVdfxPEAf2jTHRJy0p/MvFWIDpRlbvPMBLy3dyyxlZjO7fK9zVMcaEUSQseGkBpptoaFD++831ZKYm8P0LxoS7OsaYMDu24KUFGNNJLy3fydrCcn76lbGk2sC+MT2eN8m1YGwMxnTGgcoafvPuZqaNyOCy0waFuzrGmAiQFgFL9luA6QZ++/4WKqrquHfWyTawb4wBoHeib0XlqOwiE5GhIrJQRDaKyAYR+b5LzxCRBSKS676nu3QRkQdEJE9E1orIJL9rzXH5c0Vkjl/6ZBFZ5855QNxvz+bK6Il2llbywrIdXD91GCcOsIF9Y4yPiJCW5OHAkehswdQBP1TVccB04HYRGQfcDXyoqqOBD917gEuA0e5rLvBn8AUL4B5gGjAVuMcvYPwZuM3vvJkuvbkyepyHFuYREyMdWorfGNO9hXvJ/g4HGFXdraor3euDwCZgMDALeNplexq43L2eBTyjPksAr4gMBC4GFqhqqaqWAQuAme5Yb1Vdor6VFZ9pcq1AZfQoO0sreWVFIddPHcaAtMRwV8cYE2HSwrweWVDGYEQkC5gILAX6q+pud6gYaNwAfjCw0++0QpfWUnphgHRaKKNHefAjX+vl388dGe6qGGMiUHpyfNR2kQEgIqnAq8Adqlrhf8y1PEK6rntLZYjIXBFZLiLLS0pKQlmNLrdjfyWvrvS1Xvr3ttaLMeaLoraLDEBEPPiCy3Oq+ppL3uO6t3Df97r0ImCo3+lDXFpL6UMCpLdUxnFU9RFVzVbV7MzMzI59yAj14MJcYmOEb1vrxRjTjLTk8G461plZZAI8DmxS1d/5HXoLaJwJNgd40y99tptNNh0od91c7wEXiUi6G9y/CHjPHasQkemurNlNrhWojB7B13op4vppw+hnrRdjTDO8SfEcDOOKyp155PsM4CZgnYisdmk/Ae4HXhaRW4HtwNXu2Dzgy0AeUAncAqCqpSLyCyDH5btXVUvd628DTwFJwHz3RQtl9AgPLswlLkb493Os9WKMaZ7/isp9UxO6vPwOBxhV/RfQ3FN95wfIr8DtzVzrCeCJAOnLgZMDpO8PVEZPsH3/YV5dWcScGVnWejHGtMh/PbJwBBh7kj/KPPhRHnExwrfOOSHcVTHGRDivW1G5PEwzySzARJGCfYd5bVURN04fbq0XY0yrvEnhXVHZAkwUeXBhHp5Y4ZvWejHGtEFjF1mZBRjTkoJ9h3l9VRE3ThtOv17WejHGtM57dNMx6yIzLfjTR77Wy1xrvRhj2qhXQhwx4ptFFg4WYKJA/r7DvL6q0Fovxph2iYlxKypbF5lpzp8+yiU+LoZv2nMvxph28ibHU2ZdZCaQbSWHeGNVETdNH05mr66fx26MiW7eZI91kZnAHvwoz1ovxpgOC+eClxZgItjWkkO8sbqI2TOywvIUrjEm+nnDuGS/BZgI9uBHeSTExTL3bJs5ZozpmLQkDwcOWwvG+Nlacog3Vxcxe8Zwa70YYzosPTl8KypbgIlQf/owl4S4WG6z1osxphMan+avCMNAvwWYCJS39xBvrdnF7NOt9WKM6ZyjKypbgDHge+4l0RPL3LOs9WKM6Zy0owtedv1AvwWYCHO09TIjiz7WejHGdNKx9cisBdPjPfBhLkkemzlmjAmO9OTwLdlvASaC5O09yD/W7mLO6VlkpMSHuzrGmG7Am+RaMGEYg+nwlsnR5mBVLeVHao/2R0aSiqpa3lxVxJOfFJDkieU2G3sxxgRJr8Q4RMIzBtNjAkzB/kom3Ps+4wb2ZuqIDKaN6MPUERlhaymoKit3HOCFZTt4e+0uqmobGD+oNw9cO9FaL8aYoAnniso9JsCc0DeFb54/mmX5pbywbAdPflIAwJj+qUeDzbQTMkK+HH55ZS2vrSrkhWU72LLnECnxsVwxcQjXTx3GKUPSQlq2MaZnSk+Oty6y9hKRmcAfgVjgMVW9v7m8KQlx3HHBGABq6hpYW3iApfmlLM0v5bWVhTy7ZDvgC0SNwWbqiD4M9iZ1up6qSk5BGS8s28G8dbuprmvgtCFp3H/lKXz1tEGkJET1P4MxJsKlJXkoOVhFXX0DcbFdN/QuqtplhQWTiMQCW4ALgUIgB7hOVTcGyp+dna3Lly8PeK26+gY27Kpgaf5+luWXsiy/lIqqOgD6piYwyJtI/96JDExLZEBaIgN6H/89OT5wgCg9XMNrK32tla0lh+mVEMflEwdz7dShjB9krRVjTNeY+8xy3t+4h9gYYZA3kWEZyQzLSGZoRjJD05OPvvcmexCR484VkRWqmt2RcqM5wMwAfq6qF7v3PwZQ1V8Fyt9SgGmqvkHZXFzB0m2lbC6uoLiimuLyIxSXVx0NPP56J8YxMC2J/mmJDHRBJ3/fYd5dX0xNfQOThnm5buowvnLqwGaDkTHGhMru8iMs2lLCjtJKdpQeYWdpJTtLK9l/+PiB/14JcQzJSGZYRtLRoDP79BEdDjDR/NtuMLDT730hMM0/g4jMBeYCDBs2rM0Xjo0Rxg9KC9jKqKypo7i8yvdVUcXu8ir2+H3ftLuCfYeq6ZUQx/XThnHd1GGcOKBXRz6fMcYExcC0JK6Z8sXfgYeq644Gmx1+37eWHObjz0uoruvcApnRHGBapaqPAI+ArwUTjGsmx8dxQmYqJ2SmNpuncdVSTxf2dRpjTHulJsQxdmBvxg7s/YVjDQ1KyaFqBvy649eP5gBTBAz1ez/EpYWdBRZjTLSLiRH69+7crNpo/k2YA4wWkREiEg9cC7wV5joZY4xxorYFo6p1IvId4D1805SfUNUNYa6WMcYYJ2oDDICqzgPmhbsexhhjviiau8iMMcZEMAswxhhjQsICjDHGmJCwAGOMMSYkonapmPYSkXIgtwOnpgHlXXheX2BfF5Zn59l5bWX3Zs88b7SqdmzxRFXtEV/AI1Fy3vIoqaed18POs3vTzmvvV0/qIvtHlJzXUdHy+ey86D6vK8uy86L7vJ7TRRYtRGS5dnDlUmNCye5N0149qQUTLR4JdwWMaYbdm6ZdrAVjjDEmJLpVC0ZEhojImyKSKyJbReSPbiHM5vLfISLJXVnHaCIil4uIishJ4a5LW4jIoVaOfywiYevisfszuOz+DJ5Q3ZvdJsCIb5/P14A3VHU0MAZIBe5r4bQ7APsP3LzrgH+5723mtrM2fuz+DAm7P4MgpPdmR6efRdoXcD6wqElab2A/kAL8H7AeWAt8F/geUAOsAxaGob6Hwv0za6V+qfj21xkDfO7SzgUWAe8AnwN/AWIaPw/wW2ANcGaY6nzI1fFtv7QHgZvd64+B7DDVLWruz0i/N10d7f4MXr1Cdm9G9WrKTYwHVvgnqGqFiOwAvgFkARPUt8x/hqqWisidwJdUtSMPj3V3s4B3VXWLiOwXkckufSowDtgOvAtcCbyC70Zcqqo/DEttI5/dn8Fl92fwhOze7DZdZK04F/irqtYBqGppeKvjIyKpIvKhiKwUkXUiMsulZ4nIJhF5VEQ2iMj7IpLUxdW7DnjRvX6RY90Qy1R1m6rWAy8AZ7r0euDVrq1it3EuEXZ/Rvi9CXZ/dpVz6cS92Z0CzEZgsn+CiPQGhoWnOm1SBVyhqpOALwG/df2hAKOBh1R1PHAA+FpXVUpEMoDzgMdEpAD4T+BqQICm0w4b31e5/9ThVsfx93Xn9nwNnmi7PyPy3gS7P0MgZPdmdwowHwLJIjIbjg7k/RZ4Ct+ul98UkTh3LMOdcxDo1fVVPUqA/ycia4EPgMFAf3csX1VXu9cr8DVTu8rXgWdVdbiqZqnqUCAfOAuY6rapjgGuwTfIGkm2A+NEJEFEvPj6lyNBtN2fkXpvgt2fwRaye7PbBBj1jUxdAVwlIrnAFnx/hf0EeAzYAawVkTXA9e60R4B3RWRhGKoMcAOQCUxW1QnAHo79RVPtl6+ert199Drg9SZpr7r0HHwDk5vw/adumi8s3H+AalXdCbyMb1DyZWBVWCvmROH9Gan3Jtj9GVShvDftQcswcXPifwqMUtXvisiXgI+AES7L26p6ssv7H0Cqqv48LJV1RORc4D9U9dJw1iMQETkNeFRVp4a7LtEuGu9NV5dzsfszonSnWWRRo/GvGeA54B8isg5YDmwOa8WilIh8C9/UyTvCXZdoZ/dm8PXk+9NaMGHQU/+aMZHP7k0TTN1mDCZauL9mXgD+K9x1Mcaf3Zsm2KwFY4wxJiSsBRNiIjJURBaKyEb3YNr3XXqGiCxwi8stEJF0l36SiHwmItVuALXxOieKyGq/rwoR6XF9uia4gnV/umM/cNdYLyIviEgkPONhwshaMCEmIgOBgaq6UkR64Xtu4HLgZqBUVe8XkbuBdFW9S0T6AcNdnjJV/b8A14zFtw7TNFXd3lWfxXQ/wbo/RWQwvmdOxqnqERF5GZinqk91/acykcJaMCGmqrtVdaV7fRDf/PzB+NZSetplexrff1hUda+q5gC1LVz2fGCrBRfTWUG+P+OAJDcTLRnYFeLqmwhnAaYLiUgWMBFYCvRX1d3uUDHHnpJui2vxDcYaEzSduT9VtQjfqrs7gN1Auaq+H7LKmqhgAaaLiEgqvqeN71DVCv9j7knaNvVVim8ToMuAvwe9kqbH6uz96cZoZuF7GHMQkCIiN4aouiZKWIDpAiLiwfef9zlVfc0l73H934394HvbeLlLgJWquif4NTU9UZDuzwvwrVFWoqq1+DawOj1UdTbRwQJMiLkVaB8HNqnq7/wOvQXMca/nAG+28ZLXYd1jJkiCeH/uAKaLSLK75vn4xnNMD2azyEJMRM4EFuPb/a3BJf8EXz/3y/iWxN4OXO028hmAb2mO3i7/IXwzcypEJAXff+QTVLW8az+J6Y6CfH/+D74VjOvwLeL4DVX1XxjT9DAWYIwxxoSEdZEZY4wJCQswxhhjQsICjDHGmJCwAGOMMSYkLMAYY4wJCQswxhhjQsICjAkrEblZRB4MwXU/FpHstuYRkXki4g12PVoo+1wReTvEZUwQkS+HsoyOEpFDrRz3isi3u6o+JjQswJguIz6duufcSr1Bp6pfVtUDnblGMD5fkE0AujTABPHfxwtYgIlykfSfwXQDInKn23BqvYjcISJZIvK5iDwDrAeGisgtIrJFRJYBZ/idmykir4pIjvs6w6X/XESeFZFPgGebKTdJRF4UkU0i8jqQ5HfsIrdJ1koR+btb2LHp+QUi0ldE7heR2/3Sf964sZaI/Ker11r31DrNfL6A5YnITBHZLCIrgStb+TmmisiTIrLOlfc1l37IL8/XReQp9/oq9zNfIyKL3KKo9wLXiG+DumvEt4nYG+56S0TkVL/P+LSILBaR7SJypYj8xpX9rlurDBGZLCL/FJEVIvKe31plH4vIH0RkOfD9Zj7PCPczWSciv2zyOT90P6t1IjLLHbofGOnq/r/N/fxNhFNV+7KvoHwBk/EtOZICpAIb8C3/3gBMd3kG4lvuJhOIBz4BHnTHngfOdK+H4VsfC+Dn+DbCSmqh7DuBJ9zrU/EtV5IN9AUWASnu2F3Af7vXHwPZ7nWByzsR+KffdTcCQ4GLgEcAwfeH2dvA2UBWk88XsDwgEdgJjHbXeBl4u4XP82vgD37v0933Q35pXweecq/XAYPda6/7fnPjz9a9/xNwj3t9HrDa7+f7L8ADnAZUApe4Y6/j2wvGA3wKZLr0a/x+3h8DD7dyb7wFzHavb2/8HPj2kOnt97PLcz+fLGC93/kBf/7hvuftq+WvkHQ3mB7rTOB1VT0MICKvAWcB21V1icszDfhYVUtcnpeAMe7YBcA4EWm8Xm+/1sZbqnqkhbLPBh4AUNW1IrLWpU8HxgGfuOvGA581dxFVXSUi/URkEL4gWKaqO8W3lfBF+NbYAl8AHY0vWPp/vubKOwnfasO57nP/DZjbwue5AN++P431KmshL/gC9VPi20nytWbynAl8zV3vIxHpIyK93bH5qlorIuuAWOBdl74O3y/7E4GTgQXuc8Xi2/el0Uut1O+MxrLxtUJ/7V4L8P9E5Gx8gXowgfeeuYjAP/9FrZRrwsgCjOkKh9uYLwZfS6DKP9H9QmvrNZoSYIGqXteOc/6Or3UwgGO/OAX4lar+tUndsprULWB5IjKhfdVulv/igUf3vFfVb4nINOArwAoRmdzO61a76zSISK26ZgO+X/px+D7XBlWd0cz5bfn3CbTw4Q34AvlkF+AK8PtcfgL+/E1kszEYE0yLgcvFt2R7CnCFS/O3FDjH/fXsAa7yO/Y+8N3GN+38pbwIuN6ddzK+bjKAJcAZIjLKHUsRkTGBL3HUS/haD1/n2MZu7wH/5jeeMlh8+9M31Vx5m4EsERnp8rUW8Bbg60rCXSfdvdwjImPFN5ngCr/jI1V1qar+N1CCr1vvINDL75qL8f1CR0TOBfZpk83FWvA5kCkiM9z5HhEZ38ZzwdfCamyR3eCXngbsdcHlS8Bwl9607m39+ZsIYgHGBI369nZ/CliGL5A8BpQ1ybMbX5//Z/h+6fjvGfI9INsN4m4EvtWO4v8MpIrIJnyD2ytceSX4xiJecN1mjd1VLX2ODfh+uRW5+qK+7X+fBz5z3UivcPwvwMZzA5bnWmVzgXfcIH9rG3j9EkhvHLgHvuTS78Y3/vApx3dR/a8bJF/vjq0BFuLrclwtItfg+7lPdvW6n2P7vbRKVWvwBdxfu/qspn0bin0fuN397Ab7pT+H7998HTAbXyBGVffj62ZcLyL/29afv4kstly/McaYkLAWjDHGmJCwQX4TVUTkYo7NQGqUr6pXBMof6UTkFr747Mgnqnp7oPyRTkR+yvHjagB/V9X7wlEfE17WRWaMMSYkrIvMGGNMSFiAMcYYExIWYIwxxoSEBRhjjDEhYQHGGGNMSPx/h/GySfONdj8AAAAASUVORK5CYII=\n",
      "text/plain": [
       "<Figure size 432x288 with 1 Axes>"
      ]
     },
     "metadata": {
      "needs_background": "light"
     },
     "output_type": "display_data"
    }
   ],
   "source": [
    "#Plus simple que précédent\n",
    "orders_values_df.resample('M')['payment_value'].sum().plot()"
   ]
  },
  {
   "cell_type": "markdown",
>>>>>>> e94eb76373e74287e0f3401c0c27781d51003ecf
   "metadata": {},
   "outputs": [],
   "source": [
    "#Plot customer satisfaction"
   ]
  },
  {
   "cell_type": "code",
<<<<<<< HEAD
   "execution_count": null,
=======
   "execution_count": 16,
>>>>>>> e94eb76373e74287e0f3401c0c27781d51003ecf
   "metadata": {},
   "outputs": [],
   "source": [
    "#handle datetime"
   ]
  },
  {
   "cell_type": "code",
<<<<<<< HEAD
   "execution_count": null,
   "metadata": {},
   "outputs": [],
=======
   "execution_count": 17,
   "metadata": {},
   "outputs": [
    {
     "data": {
      "text/plain": [
       "<matplotlib.axes._subplots.AxesSubplot at 0x124def910>"
      ]
     },
     "execution_count": 17,
     "metadata": {},
     "output_type": "execute_result"
    },
    {
     "data": {
      "image/png": "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\n",
      "text/plain": [
       "<Figure size 432x288 with 1 Axes>"
      ]
     },
     "metadata": {
      "needs_background": "light"
     },
     "output_type": "display_data"
    }
   ],
>>>>>>> e94eb76373e74287e0f3401c0c27781d51003ecf
   "source": [
    "# Plot metric"
   ]
  },
  {
   "cell_type": "markdown",
   "metadata": {},
   "source": [
    "#### Shipping delay"
   ]
  },
  {
   "cell_type": "code",
<<<<<<< HEAD
   "execution_count": null,
=======
   "execution_count": 18,
>>>>>>> e94eb76373e74287e0f3401c0c27781d51003ecf
   "metadata": {},
   "outputs": [],
   "source": [
    "#Load orders"
   ]
  },
  {
   "cell_type": "code",
<<<<<<< HEAD
   "execution_count": null,
=======
   "execution_count": 19,
>>>>>>> e94eb76373e74287e0f3401c0c27781d51003ecf
   "metadata": {},
   "outputs": [],
   "source": [
    "#Handle datetime"
   ]
  },
  {
   "cell_type": "code",
<<<<<<< HEAD
   "execution_count": null,
   "metadata": {},
   "outputs": [],
   "source": [
    "#Plot distribution of wait_time and delay_vs_expected"
   ]
=======
   "execution_count": 39,
   "metadata": {},
   "outputs": [
    {
     "data": {
      "text/plain": [
       "[<matplotlib.lines.Line2D at 0x12b4c0150>]"
      ]
     },
     "execution_count": 39,
     "metadata": {},
     "output_type": "execute_result"
    },
    {
     "data": {
      "image/png": "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\n",
      "text/plain": [
       "<Figure size 432x288 with 1 Axes>"
      ]
     },
     "metadata": {
      "needs_background": "light"
     },
     "output_type": "display_data"
    }
   ],
   "source": [
    "#Plot distribution of wait_time and delay_vs_expected\n",
    "orders_df['wait_time'] = orders_df.order_delivered_customer_date-orders_df.order_purchase_timestamp\n",
    "orders_df['wait_time'] = orders_df['wait_time'].astype('timedelta64[D]')\n",
    "plt.plot(orders_df.groupby(['wait_time']).wait_time.count())"
   ]
  },
  {
   "cell_type": "code",
   "execution_count": 32,
   "metadata": {},
   "outputs": [
    {
     "data": {
      "text/plain": [
       "wait_time\n",
       "0.0        13\n",
       "1.0      1572\n",
       "2.0      3168\n",
       "3.0      3849\n",
       "4.0      4828\n",
       "         ... \n",
       "191.0       1\n",
       "194.0       3\n",
       "195.0       1\n",
       "208.0       1\n",
       "209.0       1\n",
       "Name: wait_time, Length: 146, dtype: int64"
      ]
     },
     "execution_count": 32,
     "metadata": {},
     "output_type": "execute_result"
    }
   ],
   "source": [
    "orders_df.groupby(['wait_time']).wait_time.count()"
   ]
  },
  {
   "cell_type": "code",
   "execution_count": null,
   "metadata": {},
   "outputs": [],
   "source": []
  },
  {
   "cell_type": "code",
   "execution_count": null,
   "metadata": {},
   "outputs": [],
   "source": []
>>>>>>> e94eb76373e74287e0f3401c0c27781d51003ecf
  }
 ],
 "metadata": {
  "kernelspec": {
   "display_name": "Python 3",
   "language": "python",
   "name": "python3"
  },
  "language_info": {
   "codemirror_mode": {
    "name": "ipython",
    "version": 3
   },
   "file_extension": ".py",
   "mimetype": "text/x-python",
   "name": "python",
   "nbconvert_exporter": "python",
   "pygments_lexer": "ipython3",
   "version": "3.7.0"
  },
  "toc": {
   "base_numbering": 1,
   "nav_menu": {},
   "number_sections": true,
   "sideBar": true,
   "skip_h1_title": false,
   "title_cell": "Table of Contents",
   "title_sidebar": "Contents",
   "toc_cell": false,
   "toc_position": {},
   "toc_section_display": true,
   "toc_window_display": true
  }
 },
 "nbformat": 4,
 "nbformat_minor": 2
}
