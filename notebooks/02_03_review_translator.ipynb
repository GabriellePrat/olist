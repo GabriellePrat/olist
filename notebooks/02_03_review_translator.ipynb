{
 "cells": [
  {
   "cell_type": "markdown",
   "metadata": {},
   "source": [
    "### Review Translator"
   ]
  },
  {
   "cell_type": "code",
   "execution_count": 1,
   "metadata": {},
   "outputs": [],
   "source": [
    "%load_ext autoreload\n",
    "%autoreload 2"
   ]
  },
  {
   "cell_type": "code",
   "execution_count": 2,
   "metadata": {},
   "outputs": [],
   "source": [
    "# Load data \n",
    "from olist.data import Olist\n",
    "data = Olist().get_data()"
   ]
  },
  {
   "cell_type": "code",
   "execution_count": 8,
   "metadata": {},
   "outputs": [],
   "source": [
    "# Pull sample reviews.\n",
    "message = data['olist_order_reviews_dataset'].dropna()\n",
    "message = message[message['review_score'] == 1]\n",
    "message = message[['review_comment_title', 'review_comment_message']].sample(n=100)"
   ]
  },
  {
   "cell_type": "code",
   "execution_count": null,
   "metadata": {},
   "outputs": [],
   "source": [
    "# Implement translator\n",
    "from googletrans import Translator\n",
    "\n",
    "tr = Translator()\n",
    "tr.translate('PRODUTO JA CHEGOU COM DEFEITO NÃO FUCIONOU', src='pt', dest='en').text"
   ]
  },
  {
   "cell_type": "code",
   "execution_count": 9,
   "metadata": {},
   "outputs": [
    {
     "data": {
      "text/plain": [
       "['Ainda não recebi o produt',\n",
       " 'Não chegou',\n",
       " '0',\n",
       " 'Produto Errado',\n",
       " 'Produto pendente',\n",
       " 'PEDIDO NÃO ENTREGUE',\n",
       " 'Produto diferente ',\n",
       " 'Não recebe minha encomend',\n",
       " 'Insatisfeitíssima ',\n",
       " 'Sem Comentários',\n",
       " 'Não recebi o produto. ',\n",
       " 'produto replica ',\n",
       " 'Combo não entregue',\n",
       " 'Chateada',\n",
       " 'não recomendo',\n",
       " 'Vendedor Sem Compromisso.',\n",
       " 'produto não entregue',\n",
       " 'Pessima',\n",
       " 'Produto ruim',\n",
       " 'Produto com defeito ',\n",
       " 'Não recebi',\n",
       " 'não recebi saia cama box',\n",
       " 'Vendedor Horrivel',\n",
       " 'Faltando produto ',\n",
       " 'Entrega errada ',\n",
       " '1',\n",
       " 'Não Recomendo',\n",
       " 'Produto Usado',\n",
       " 'não foi entregue no prazo',\n",
       " 'Cha verde matcha natural ',\n",
       " 'Horrível ',\n",
       " 'nao entregue',\n",
       " 'está faltando 1 produto',\n",
       " 'Me enganaram... ',\n",
       " 'Não recebi corretamente',\n",
       " 'Boa',\n",
       " 'não recebi o produto ',\n",
       " 'Regular',\n",
       " 'Falta de produto',\n",
       " '0',\n",
       " 'Não Recomendo',\n",
       " 'Não recebi o produdo ',\n",
       " 'Empresa péssima',\n",
       " 'Metade do pedido ',\n",
       " 'Problemas',\n",
       " 'produto está com defeito',\n",
       " 'Não recomendo',\n",
       " 'Faltando produto',\n",
       " 'não recomendo',\n",
       " 'Produto não veio 250 ml',\n",
       " 'Insatisfação ',\n",
       " 'Produto não funciona',\n",
       " 'ainda estou aguardadno',\n",
       " 'Produto veio com defeito ',\n",
       " 'Produto com defeito ',\n",
       " 'Não recomendo',\n",
       " 'Negativa',\n",
       " 'Bom',\n",
       " 'Não recebi o produto',\n",
       " 'Decepção',\n",
       " 'Produto errado',\n",
       " 'Atraso do Pedido',\n",
       " 'NÃO RECOMENDADO',\n",
       " 'Produto trocado',\n",
       " 'nao recomendo',\n",
       " 'Produto incorreto',\n",
       " 'não recomendo',\n",
       " 'Não gostei',\n",
       " 'Chateada',\n",
       " 'Cor errada',\n",
       " '?!? ',\n",
       " 'pedi 2 desktops chegou 1',\n",
       " 'PRODUTO COM DEFEITO',\n",
       " 'Você paga 2 e recebe 1',\n",
       " 'produto não recebido',\n",
       " 'Decepcionado',\n",
       " 'Reclamação ',\n",
       " 'zero vou ao procom',\n",
       " 'péssima ',\n",
       " 'Péssima',\n",
       " 'Minha compra venho faltan',\n",
       " 'Produto veio cor errada ',\n",
       " 'Péssimo',\n",
       " 'Demora de informação',\n",
       " 'por enquanto...nenhuma ',\n",
       " 'Produto com defeito',\n",
       " 'Horrível!!',\n",
       " 'Desrespeito com o cliente',\n",
       " 'produto incompleto',\n",
       " 'Orivel',\n",
       " 'não recomendo',\n",
       " 'Produto não foi entregue',\n",
       " 'produto com defeito',\n",
       " 'Horrivel ',\n",
       " 'Boa loja',\n",
       " 'Avarias na prateleira ',\n",
       " 'Faluana receber um produt',\n",
       " 'não recomendo',\n",
       " 'Regula',\n",
       " 'não recomendo']"
      ]
     },
     "execution_count": 9,
     "metadata": {},
     "output_type": "execute_result"
    }
   ],
   "source": [
    "english_titles = message['review_comment_title'].tolist()\n",
    "english_comments = message['review_comment_message'].tolist()\n",
    "\n",
    "for t, c in zip(english_titles, english_comments):\n",
    "    print()"
   ]
  },
  {
   "cell_type": "code",
   "execution_count": null,
   "metadata": {},
   "outputs": [],
   "source": []
  }
 ],
 "metadata": {
  "kernelspec": {
   "display_name": "Python 3",
   "language": "python",
   "name": "python3"
  },
  "language_info": {
   "codemirror_mode": {
    "name": "ipython",
    "version": 3
   },
   "file_extension": ".py",
   "mimetype": "text/x-python",
   "name": "python",
   "nbconvert_exporter": "python",
   "pygments_lexer": "ipython3",
   "version": "3.7.6"
  }
 },
 "nbformat": 4,
 "nbformat_minor": 2
}
